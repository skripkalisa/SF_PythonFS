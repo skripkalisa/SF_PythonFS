{
    "cells": [
        {
            "cell_type": "markdown",
            "source": [
                "# C3.2. Тонкости обработки исключений. Собственные классы исключений.\n",
                "\n",
                "Классы +-- SystemExit +-- KeyboardInterrupt +-- GeneratorExit — являются исключениями, которые нельзя поймать, т.к. их возникновение не зависит от выполнения программы. А все, что наследуются от Exception, можно отловить и обработать"
            ],
            "metadata": {}
        },
        {
            "cell_type": "code",
            "execution_count": 1,
            "source": [
                "try:\n",
                "    raise ZeroDivisionError  # возбуждаем исключение ZeroDivisionError\n",
                "except ArithmeticError:  # ловим его родителя\n",
                "    print(\"Hello from arithmetic error\")"
            ],
            "outputs": [
                {
                    "output_type": "stream",
                    "name": "stdout",
                    "text": [
                        "Hello from arithmetic error\n"
                    ]
                }
            ],
            "metadata": {}
        },
        {
            "cell_type": "markdown",
            "source": [
                " если вы хотите ловить сначала сами классы, а потом любой другой из наследуемых, то убедитесь, что вы идёте от конкретного к абстрактному.\n",
                "\n",
                "Вот правильный пример, для наглядности:"
            ],
            "metadata": {}
        },
        {
            "cell_type": "code",
            "execution_count": 2,
            "source": [
                "try:\n",
                "    raise ZeroDivisionError\n",
                "except ZeroDivisionError:  # сначала пытаемся поймать наследника\n",
                "    print(\"Zero division error\")\n",
                "except ArithmeticError:  # потом ловим потомка\n",
                "    print(\"Arithmetic error\")"
            ],
            "outputs": [
                {
                    "output_type": "stream",
                    "name": "stdout",
                    "text": [
                        "Zero division error\n"
                    ]
                }
            ],
            "metadata": {}
        },
        {
            "cell_type": "code",
            "execution_count": 3,
            "source": [
                "# Принцип написания и отлова собственного исключения следующий:\n",
                "\n",
                "class MyException(Exception):  # создаём пустой класс – исключения\n",
                "    pass\n",
                "try:\n",
                "    raise MyException(\"message\")  # поднимаем наше исключение\n",
                "except MyException as e:  # ловим его за хвост как шкодливого котёнка\n",
                "    print(e)  # выводим информацию об исключении\n"
            ],
            "outputs": [
                {
                    "output_type": "stream",
                    "name": "stdout",
                    "text": [
                        "message\n"
                    ]
                }
            ],
            "metadata": {}
        },
        {
            "cell_type": "code",
            "execution_count": null,
            "source": [
                "# собственные исключения с наследованием:\n",
                "\n",
                "# создаём пустой класс – исключения потомка, наследуемся от exception\n",
                "class ParentException(Exception):\n",
                "    pass\n",
                "\n",
                "# создаём пустой класс – исключение наследника, наследуемся от ParentException\n",
                "class ChildException(ParentException):\n",
                "    pass\n",
                "\n",
                "try:\n",
                "    raise ChildException(\"message\")  # поднимаем исключение-наследник\n",
                "except ParentException as e:  # ловим его родителя\n",
                "    print(e)  # выводим информацию об исключении\n"
            ],
            "outputs": [],
            "metadata": {}
        },
        {
            "cell_type": "markdown",
            "source": [
                "класс с самописным исключением не обязательно должен быть пустым. Если вы хотите добавить собственные аргументы в конструктор, дополнительно произвести какие-либо операции, то можете спокойно это делать, главное — не забыть о нескольких нюансах:"
            ],
            "metadata": {}
        },
        {
            "cell_type": "code",
            "execution_count": null,
            "source": [
                "class ParentException(Exception):\n",
                "    # допишем к нашему пустому классу конструктор, который будет печатать дополнительно в консоль информацию об ошибке.\n",
                "    def __init__(self, message, error):\n",
                "        super().__init__(message)  # помним про вызов конструктора родительского класса\n",
                "        print(f\"Errors: {error}\")  # печатаем ошибку\n",
                "\n",
                "\n",
                "# создаём пустой класс – исключение наследника, наследуемся от ParentException\n",
                "class ChildException(ParentException):\n",
                "    def __init__(self, message, error):\n",
                "        super().__init__(message, error)\n",
                "\n",
                "\n",
                "try:\n",
                "    # поднимаем исключение-наследник, передаём дополнительный аргумент\n",
                "    raise ChildException(\"message\", \"error\")\n",
                "except ParentException as e:\n",
                "    print(e)  # выводим информацию об исключении\n",
                "# Сначала мы увидим то, что напишет нам конструктор родительского класса, а потом уже увидим сообщение об ошибке.\n"
            ],
            "outputs": [],
            "metadata": {}
        },
        {
            "cell_type": "markdown",
            "source": [
                "### ***Давайте подведём итоги:***\n",
                "\n",
                "- Исключения — это такие особенные классы, \n",
                "    которые как и любые классы можно наследовать. \n",
                "    Если вы хотите ловить несколько исключений, \n",
                "    то сначала ловите потомков, а потом родителей, \n",
                "    чтобы ничего не упустить.\n",
                "- Чтобы создать собственный класс, нужно просто написать пустой класс \n",
                "    и наследовать его от класса Exception, этого будет достаточно.\n",
                "- Не обязательно отлавливать сам класс, при необходимости можно \n",
                "    отлавливать его родителя, это тоже будет работать, \n",
                "    но вы можете упустить важную информацию.\n"
            ],
            "metadata": {}
        },
        {
            "cell_type": "markdown",
            "source": [
                "Задание 3.2.5\n",
                "\n",
                "Задание на самопроверку.\n",
                "\n",
                "Создать класс Square. Добавить в конструктор класса Square собственное исключение NonPositiveDigitException, унаследованное от ValueError, которое будет срабатывать каждый раз, когда сторона квадрата меньше или равна 0.\n"
            ],
            "metadata": {}
        },
        {
            "cell_type": "code",
            "execution_count": 6,
            "source": [
                "class NonPositiveDigitException(ValueError):\n",
                "    def __str__(self):\n",
                "        return \"сторона квадрата меньше или равна 0\"\n",
                "\n",
                "class Square:\n",
                "    def __init__(self, side):\n",
                "        self.side = side\n",
                "    def get_area(self):\n",
                "        try:\n",
                "            if self.side <= 0:\n",
                "                raise NonPositiveDigitException\n",
                "            else: \n",
                "                return self.side**2\n",
                "        except ValueError as e:\n",
                "            print(e)\n",
                "\n",
                "s = Square(0)\n",
                "print(\"s area = \" + str(s.get_area()))"
            ],
            "outputs": [
                {
                    "output_type": "stream",
                    "name": "stdout",
                    "text": [
                        "сторона квадрата меньше или равна 0\n",
                        "s area = None\n"
                    ]
                }
            ],
            "metadata": {}
        },
        {
            "cell_type": "code",
            "execution_count": 10,
            "source": [
                "# Эталон решения\n",
                "\n",
                "class NonPositiveDigitException(ValueError):\n",
                "    pass\n",
                "\n",
                "class Square:\n",
                "    def __init__(self, a):\n",
                "        if a <= 0:\n",
                "            raise NonPositiveDigitException(\n",
                "                'Неправильно указанна сторона квадрата')\n",
                "\n",
                "s = Square(1)"
            ],
            "outputs": [],
            "metadata": {}
        },
        {
            "cell_type": "markdown",
            "source": [
                "# C3.3. Работа с импортом"
            ],
            "metadata": {}
        },
        {
            "cell_type": "markdown",
            "source": [
                "**Как импортировать модуль**\n",
                "\n",
                "    import sys\n",
                "    import os\n",
                "\n",
                "Импорт происходит с помощью зарезервированного слова **import** название **модуля**.\n",
                "\n",
                "Для того, чтобы обратиться к содержимому модуля, нужно после его имени поставить точку и указать нужный вам элемент.\n",
                "\n",
                "    import os\n",
                "    \n",
                "    print(os.getcwd())  # получить текущую директорию\n",
                "    print(os.listdir())  # получить список файлов текущей директории\n",
                "\n",
                "*Не следует импортировать модули в одну строку, каждый отдельный модуль должен импортировать на отдельной строке:*\n",
                "\n",
                "    # правильно\n",
                "    import os\n",
                "    import sys\n",
                "    \n",
                "    # неправильно\n",
                "    import os, sys\n",
                "\n",
                "Но если вы хотите импортировать, например, несколько функций из одного модуля, можно перечислить их через запятую:\n",
                "\n",
                "    from subprocess import Popen, PIPE\n",
                "\n",
                "Также для импорта существует несколько различных способов записи, но делают они тоже самое: импорт всего модуля и обращение к функции через имя модуля:\n",
                "\n",
                "    import math\n",
                "    print(math.pi)  # 3.141592653589793\n",
                "\n",
                "Импортируем всё из модуля, это позволяет сократить запись, и обращаться к функциям, не указывая имя модуля:\n",
                "\n",
                "    from math import *  # импортируем всё из модуля math\n",
                "    print(pi)  # 3.141592653589793\n",
                "\n",
                "Даем новое имя модулю, это позволяет избежать ошибок, если у вас есть функции, которая называется так же как модуль, то вы можете дать новое имя модулю для данного скрипта:\n",
                "\n",
                "    import math as m  # использование нового имени для обращения к импортированному модулю\n",
                "    print(m.pi)  # 3.141592653589793\n",
                "\n",
                "Даем новое имя функции или переменной, это позволяет избежать ошибок, если у вас есть одноименная функция в вашей программе, и вы не хотите её переименовать:\n",
                "\n",
                "    from math import pi as PI\n",
                "    print(PI)  # 3.141592653589793\n",
                "\n",
                "\n",
                "\n"
            ],
            "metadata": {}
        },
        {
            "cell_type": "markdown",
            "source": [
                "## Как правильно составить модуль?\n",
                "\n",
                "1. Вся основная логика модуля заключена в отдельные функции или классы. На глобальном уровне могут быть объявлены только константы или необходимые для инициализации модуля операции.\n",
                "\n",
                "2. Если вы планируете, что модуль могут запускать как самостоятельный скрипт – используйте следующую инструкцию: \n",
                "\n",
                "            if __name__ == '__main__':.\n",
                "\n",
                "    *Как это работает?* Ваш скрипт может выполняться и самостоятельно, а может быть импортирован как модуль другим скриптом. Чтобы выделить код, который не должен выполняться при импорте его следует поместить в условный оператор с условием \n",
                "  \n",
                "            if __name__ == '__main__':.\n",
                "        \n",
                "3. Хорошая структура модуля выглядит следующим образом:                                                                                                                         \n",
                "\n",
                "- Docstring (описание) модуля.\n",
                "- Область импорта:\n",
                "  - импорты системных библиотек;\n",
                "  - импорты стандартных пакетов (из PyPI);\n",
                "  - импорты ваших модулей (локальных).\n",
                "- Область объявление глобальных констант.\n",
                "- Инициализация модуля.\n",
                "- Область определения функций и классов.\n",
                "- Функции.\n",
                "\n",
                "                if __name__ == '__main__' \n",
                "                \n",
                "  (метод main) по желанию (это одни из немногих нюансов при работе с собственными модулями).\n",
                "\n",
                "***ВАЖНО***: *Чтобы модули заработали правильно, их нужно хранить в той же папке, в которой вы запускаете главный скрипт, иначе Python не найдёт ваш модуль!*\n"
            ],
            "metadata": {}
        },
        {
            "cell_type": "code",
            "execution_count": 14,
            "source": [
                "import math\n",
                "import time\n",
                "f = math.trunc(math.fmod(math.fabs(-10000000), 55)+0.3)\n",
                "f\n",
                "t = time.asctime()\n",
                "t"
            ],
            "outputs": [
                {
                    "output_type": "execute_result",
                    "data": {
                        "text/plain": [
                            "'Sun Jul 25 02:17:50 2021'"
                        ]
                    },
                    "metadata": {},
                    "execution_count": 14
                }
            ],
            "metadata": {}
        },
        {
            "cell_type": "code",
            "execution_count": 18,
            "source": [
                "import time\n",
                "\n",
                "i = 10\n",
                "while i != 0:\n",
                "  print(i)\n",
                "  i -= 1\n",
                "  time.sleep(1)\n",
                "print(\"Time's up!\")\n",
                "\n"
            ],
            "outputs": [
                {
                    "output_type": "stream",
                    "name": "stdout",
                    "text": [
                        "10\n",
                        "9\n",
                        "8\n",
                        "7\n",
                        "6\n",
                        "5\n",
                        "4\n",
                        "3\n",
                        "2\n",
                        "1\n",
                        "Time's up!\n"
                    ]
                }
            ],
            "metadata": {}
        },
        {
            "cell_type": "markdown",
            "source": [
                "## **Задание 3.3.7**\n",
                "\n",
                "*Задание на самопроверку.*\n",
                "\n",
                "Вам нужно написать два модуля:\n",
                "\n",
                "+ Первый должен содержать число Пи в виде константы 3.14 и две функции, которые будут считать площадь круга и прямоугольника.\n",
                "+ Второй модуль должен импортировать первый, далее запрашивать у пользователя размеры круга и квадрата. В результате выводить, какая из фигур больше.\n"
            ],
            "metadata": {}
        },
        {
            "cell_type": "code",
            "execution_count": null,
            "source": [
                "PI = 3.14\n",
                "\n",
                "\n",
                "def circle_area(r):\n",
                "   return PI * (r ** 2)\n",
                "\n",
                "\n",
                "def rect_area(a, b):\n",
                "   return a * b\n",
                "\n",
                "\n",
                "if __name__ == '__main__':\n",
                "   # проверяем работоспособность функции, дальнейшая часть не будет импортирована\n",
                "   # если ответы будут отличаться, то будет вызвана ошибка\n",
                "   assert circle_area(5) == 78.5\n",
                "   assert rect_area(5, 4) == 20\n",
                "\n",
                "##############################\n",
                "\n"
            ],
            "outputs": [],
            "metadata": {}
        },
        {
            "cell_type": "code",
            "execution_count": null,
            "source": [
                "from module_name import *\n",
                "\n",
                "\n",
                "def main():\n",
                "   r = input('Введите радиус круга:\\n')\n",
                "\n",
                "   a = input('Введите длину прямоугольника:\\n')\n",
                "   b = input('Введите ширину прямоугольника:\\n')\n",
                "\n",
                "   if circle_area(r) > rect_area(a, b):\n",
                "       print('Площадь круга больше')\n",
                "   else:\n",
                "       print('Площадь прямоугольника больше')\n"
            ],
            "outputs": [],
            "metadata": {}
        }
    ],
    "metadata": {
        "orig_nbformat": 4,
        "language_info": {
            "name": "python",
            "version": "3.8.10",
            "mimetype": "text/x-python",
            "codemirror_mode": {
                "name": "ipython",
                "version": 3
            },
            "pygments_lexer": "ipython3",
            "nbconvert_exporter": "python",
            "file_extension": ".py"
        },
        "kernelspec": {
            "name": "python3",
            "display_name": "Python 3.8.10 64-bit ('venv')"
        },
        "interpreter": {
            "hash": "312d0955094dd1d59c30395f476642db78179860bd9701d36a72175a7744f5d1"
        }
    },
    "nbformat": 4,
    "nbformat_minor": 2
}