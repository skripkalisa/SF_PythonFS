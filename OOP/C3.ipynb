{
    "cells": [
        {
            "cell_type": "markdown",
            "source": [
                "# C3.2. Тонкости обработки исключений. Собственные классы исключений.\n",
                "\n",
                "Классы +-- SystemExit +-- KeyboardInterrupt +-- GeneratorExit — являются исключениями, которые нельзя поймать, т.к. их возникновение не зависит от выполнения программы. А все, что наследуются от Exception, можно отловить и обработать"
            ],
            "metadata": {}
        },
        {
            "cell_type": "code",
            "execution_count": 1,
            "source": [
                "try:\n",
                "    raise ZeroDivisionError  # возбуждаем исключение ZeroDivisionError\n",
                "except ArithmeticError:  # ловим его родителя\n",
                "    print(\"Hello from arithmetic error\")"
            ],
            "outputs": [
                {
                    "output_type": "stream",
                    "name": "stdout",
                    "text": [
                        "Hello from arithmetic error\n"
                    ]
                }
            ],
            "metadata": {}
        },
        {
            "cell_type": "markdown",
            "source": [
                " если вы хотите ловить сначала сами классы, а потом любой другой из наследуемых, то убедитесь, что вы идёте от конкретного к абстрактному.\n",
                "\n",
                "Вот правильный пример, для наглядности:"
            ],
            "metadata": {}
        },
        {
            "cell_type": "code",
            "execution_count": 2,
            "source": [
                "try:\n",
                "    raise ZeroDivisionError\n",
                "except ZeroDivisionError:  # сначала пытаемся поймать наследника\n",
                "    print(\"Zero division error\")\n",
                "except ArithmeticError:  # потом ловим потомка\n",
                "    print(\"Arithmetic error\")"
            ],
            "outputs": [
                {
                    "output_type": "stream",
                    "name": "stdout",
                    "text": [
                        "Zero division error\n"
                    ]
                }
            ],
            "metadata": {}
        },
        {
            "cell_type": "code",
            "execution_count": 3,
            "source": [
                "# Принцип написания и отлова собственного исключения следующий:\n",
                "\n",
                "class MyException(Exception):  # создаём пустой класс – исключения\n",
                "    pass\n",
                "try:\n",
                "    raise MyException(\"message\")  # поднимаем наше исключение\n",
                "except MyException as e:  # ловим его за хвост как шкодливого котёнка\n",
                "    print(e)  # выводим информацию об исключении\n"
            ],
            "outputs": [
                {
                    "output_type": "stream",
                    "name": "stdout",
                    "text": [
                        "message\n"
                    ]
                }
            ],
            "metadata": {}
        },
        {
            "cell_type": "code",
            "execution_count": null,
            "source": [
                "# собственные исключения с наследованием:\n",
                "\n",
                "# создаём пустой класс – исключения потомка, наследуемся от exception\n",
                "class ParentException(Exception):\n",
                "    pass\n",
                "\n",
                "# создаём пустой класс – исключение наследника, наследуемся от ParentException\n",
                "class ChildException(ParentException):\n",
                "    pass\n",
                "\n",
                "try:\n",
                "    raise ChildException(\"message\")  # поднимаем исключение-наследник\n",
                "except ParentException as e:  # ловим его родителя\n",
                "    print(e)  # выводим информацию об исключении\n"
            ],
            "outputs": [],
            "metadata": {}
        },
        {
            "cell_type": "markdown",
            "source": [
                "класс с самописным исключением не обязательно должен быть пустым. Если вы хотите добавить собственные аргументы в конструктор, дополнительно произвести какие-либо операции, то можете спокойно это делать, главное — не забыть о нескольких нюансах:"
            ],
            "metadata": {}
        },
        {
            "cell_type": "code",
            "execution_count": null,
            "source": [
                "class ParentException(Exception):\n",
                "    # допишем к нашему пустому классу конструктор, который будет печатать дополнительно в консоль информацию об ошибке.\n",
                "    def __init__(self, message, error):\n",
                "        super().__init__(message)  # помним про вызов конструктора родительского класса\n",
                "        print(f\"Errors: {error}\")  # печатаем ошибку\n",
                "\n",
                "\n",
                "# создаём пустой класс – исключение наследника, наследуемся от ParentException\n",
                "class ChildException(ParentException):\n",
                "    def __init__(self, message, error):\n",
                "        super().__init__(message, error)\n",
                "\n",
                "\n",
                "try:\n",
                "    # поднимаем исключение-наследник, передаём дополнительный аргумент\n",
                "    raise ChildException(\"message\", \"error\")\n",
                "except ParentException as e:\n",
                "    print(e)  # выводим информацию об исключении\n",
                "# Сначала мы увидим то, что напишет нам конструктор родительского класса, а потом уже увидим сообщение об ошибке.\n"
            ],
            "outputs": [],
            "metadata": {}
        },
        {
            "cell_type": "markdown",
            "source": [
                "### ***Давайте подведём итоги:***\n",
                "\n",
                "- Исключения — это такие особенные классы, \n",
                "    которые как и любые классы можно наследовать. \n",
                "    Если вы хотите ловить несколько исключений, \n",
                "    то сначала ловите потомков, а потом родителей, \n",
                "    чтобы ничего не упустить.\n",
                "- Чтобы создать собственный класс, нужно просто написать пустой класс \n",
                "    и наследовать его от класса Exception, этого будет достаточно.\n",
                "- Не обязательно отлавливать сам класс, при необходимости можно \n",
                "    отлавливать его родителя, это тоже будет работать, \n",
                "    но вы можете упустить важную информацию.\n"
            ],
            "metadata": {}
        },
        {
            "cell_type": "markdown",
            "source": [
                "Задание 3.2.5\n",
                "\n",
                "Задание на самопроверку.\n",
                "\n",
                "Создать класс Square. Добавить в конструктор класса Square собственное исключение NonPositiveDigitException, унаследованное от ValueError, которое будет срабатывать каждый раз, когда сторона квадрата меньше или равна 0.\n"
            ],
            "metadata": {}
        },
        {
            "cell_type": "code",
            "execution_count": 6,
            "source": [
                "class NonPositiveDigitException(ValueError):\n",
                "    def __str__(self):\n",
                "        return \"сторона квадрата меньше или равна 0\"\n",
                "\n",
                "class Square:\n",
                "    def __init__(self, side):\n",
                "        self.side = side\n",
                "    def get_area(self):\n",
                "        try:\n",
                "            if self.side <= 0:\n",
                "                raise NonPositiveDigitException\n",
                "            else: \n",
                "                return self.side**2\n",
                "        except ValueError as e:\n",
                "            print(e)\n",
                "\n",
                "s = Square(0)\n",
                "print(\"s area = \" + str(s.get_area()))"
            ],
            "outputs": [
                {
                    "output_type": "stream",
                    "name": "stdout",
                    "text": [
                        "сторона квадрата меньше или равна 0\n",
                        "s area = None\n"
                    ]
                }
            ],
            "metadata": {}
        },
        {
            "cell_type": "code",
            "execution_count": 10,
            "source": [
                "# Эталон решения\n",
                "\n",
                "class NonPositiveDigitException(ValueError):\n",
                "    pass\n",
                "\n",
                "class Square:\n",
                "    def __init__(self, a):\n",
                "        if a <= 0:\n",
                "            raise NonPositiveDigitException(\n",
                "                'Неправильно указанна сторона квадрата')\n",
                "\n",
                "s = Square(1)"
            ],
            "outputs": [],
            "metadata": {}
        },
        {
            "cell_type": "markdown",
            "source": [
                "# C3.3. Работа с импортом"
            ],
            "metadata": {}
        },
        {
            "cell_type": "markdown",
            "source": [
                "**Как импортировать модуль**\n",
                "\n",
                "    import sys\n",
                "    import os\n",
                "\n",
                "Импорт происходит с помощью зарезервированного слова **import** название **модуля**.\n",
                "\n",
                "Для того, чтобы обратиться к содержимому модуля, нужно после его имени поставить точку и указать нужный вам элемент.\n",
                "\n",
                "    import os\n",
                "    \n",
                "    print(os.getcwd())  # получить текущую директорию\n",
                "    print(os.listdir())  # получить список файлов текущей директории\n",
                "\n",
                "*Не следует импортировать модули в одну строку, каждый отдельный модуль должен импортировать на отдельной строке:*\n",
                "\n",
                "    # правильно\n",
                "    import os\n",
                "    import sys\n",
                "    \n",
                "    # неправильно\n",
                "    import os, sys\n",
                "\n",
                "Но если вы хотите импортировать, например, несколько функций из одного модуля, можно перечислить их через запятую:\n",
                "\n",
                "    from subprocess import Popen, PIPE\n",
                "\n",
                "Также для импорта существует несколько различных способов записи, но делают они тоже самое: импорт всего модуля и обращение к функции через имя модуля:\n",
                "\n",
                "    import math\n",
                "    print(math.pi)  # 3.141592653589793\n",
                "\n",
                "Импортируем всё из модуля, это позволяет сократить запись, и обращаться к функциям, не указывая имя модуля:\n",
                "\n",
                "    from math import *  # импортируем всё из модуля math\n",
                "    print(pi)  # 3.141592653589793\n",
                "\n",
                "Даем новое имя модулю, это позволяет избежать ошибок, если у вас есть функции, которая называется так же как модуль, то вы можете дать новое имя модулю для данного скрипта:\n",
                "\n",
                "    import math as m  # использование нового имени для обращения к импортированному модулю\n",
                "    print(m.pi)  # 3.141592653589793\n",
                "\n",
                "Даем новое имя функции или переменной, это позволяет избежать ошибок, если у вас есть одноименная функция в вашей программе, и вы не хотите её переименовать:\n",
                "\n",
                "    from math import pi as PI\n",
                "    print(PI)  # 3.141592653589793\n",
                "\n",
                "\n",
                "\n"
            ],
            "metadata": {}
        },
        {
            "cell_type": "markdown",
            "source": [
                "## Как правильно составить модуль?\n",
                "\n",
                "1. Вся основная логика модуля заключена в отдельные функции или классы. На глобальном уровне могут быть объявлены только константы или необходимые для инициализации модуля операции.\n",
                "\n",
                "2. Если вы планируете, что модуль могут запускать как самостоятельный скрипт – используйте следующую инструкцию: \n",
                "\n",
                "            if __name__ == '__main__':.\n",
                "\n",
                "    *Как это работает?* Ваш скрипт может выполняться и самостоятельно, а может быть импортирован как модуль другим скриптом. Чтобы выделить код, который не должен выполняться при импорте его следует поместить в условный оператор с условием \n",
                "  \n",
                "            if __name__ == '__main__':.\n",
                "        \n",
                "3. Хорошая структура модуля выглядит следующим образом:                                                                                                                         \n",
                "\n",
                "- Docstring (описание) модуля.\n",
                "- Область импорта:\n",
                "  - импорты системных библиотек;\n",
                "  - импорты стандартных пакетов (из PyPI);\n",
                "  - импорты ваших модулей (локальных).\n",
                "- Область объявление глобальных констант.\n",
                "- Инициализация модуля.\n",
                "- Область определения функций и классов.\n",
                "- Функции.\n",
                "\n",
                "                if __name__ == '__main__' \n",
                "                \n",
                "  (метод main) по желанию (это одни из немногих нюансов при работе с собственными модулями).\n",
                "\n",
                "***ВАЖНО***: *Чтобы модули заработали правильно, их нужно хранить в той же папке, в которой вы запускаете главный скрипт, иначе Python не найдёт ваш модуль!*\n"
            ],
            "metadata": {}
        },
        {
            "cell_type": "code",
            "execution_count": 14,
            "source": [
                "import math\n",
                "import time\n",
                "f = math.trunc(math.fmod(math.fabs(-10000000), 55)+0.3)\n",
                "f\n",
                "t = time.asctime()\n",
                "t"
            ],
            "outputs": [
                {
                    "output_type": "execute_result",
                    "data": {
                        "text/plain": [
                            "'Sun Jul 25 02:17:50 2021'"
                        ]
                    },
                    "metadata": {},
                    "execution_count": 14
                }
            ],
            "metadata": {}
        },
        {
            "cell_type": "code",
            "execution_count": 18,
            "source": [
                "import time\n",
                "\n",
                "i = 10\n",
                "while i != 0:\n",
                "  print(i)\n",
                "  i -= 1\n",
                "  time.sleep(1)\n",
                "print(\"Time's up!\")\n",
                "\n"
            ],
            "outputs": [
                {
                    "output_type": "stream",
                    "name": "stdout",
                    "text": [
                        "10\n",
                        "9\n",
                        "8\n",
                        "7\n",
                        "6\n",
                        "5\n",
                        "4\n",
                        "3\n",
                        "2\n",
                        "1\n",
                        "Time's up!\n"
                    ]
                }
            ],
            "metadata": {}
        },
        {
            "cell_type": "markdown",
            "source": [
                "## **Задание 3.3.7**\n",
                "\n",
                "*Задание на самопроверку.*\n",
                "\n",
                "Вам нужно написать два модуля:\n",
                "\n",
                "+ Первый должен содержать число Пи в виде константы 3.14 и две функции, которые будут считать площадь круга и прямоугольника.\n",
                "+ Второй модуль должен импортировать первый, далее запрашивать у пользователя размеры круга и квадрата. В результате выводить, какая из фигур больше.\n"
            ],
            "metadata": {}
        },
        {
            "cell_type": "code",
            "execution_count": null,
            "source": [
                "PI = 3.14\n",
                "\n",
                "\n",
                "def circle_area(r):\n",
                "   return PI * (r ** 2)\n",
                "\n",
                "\n",
                "def rect_area(a, b):\n",
                "   return a * b\n",
                "\n",
                "\n",
                "if __name__ == '__main__':\n",
                "   # проверяем работоспособность функции, дальнейшая часть не будет импортирована\n",
                "   # если ответы будут отличаться, то будет вызвана ошибка\n",
                "   assert circle_area(5) == 78.5\n",
                "   assert rect_area(5, 4) == 20\n",
                "\n",
                "##############################\n",
                "\n"
            ],
            "outputs": [],
            "metadata": {}
        },
        {
            "cell_type": "code",
            "execution_count": null,
            "source": [
                "from module_name import *\n",
                "\n",
                "\n",
                "def main():\n",
                "   r = input('Введите радиус круга:\\n')\n",
                "\n",
                "   a = input('Введите длину прямоугольника:\\n')\n",
                "   b = input('Введите ширину прямоугольника:\\n')\n",
                "\n",
                "   if circle_area(r) > rect_area(a, b):\n",
                "       print('Площадь круга больше')\n",
                "   else:\n",
                "       print('Площадь прямоугольника больше')\n"
            ],
            "outputs": [],
            "metadata": {}
        },
        {
            "cell_type": "markdown",
            "source": [
                "# C3.4. Работа с файлами\n",
                "\n",
                "Чтобы поработать с путями есть модуль os. Функция os.chdir() позволяет нам изменить директорию, которую мы в данный момент используем. Если вам нужно знать, какой путь вы в данный момент используете, для этого нужно вызвать os.getcwd()."
            ],
            "metadata": {}
        },
        {
            "cell_type": "code",
            "execution_count": 4,
            "source": [
                "import os\n",
                "# получить текущий путь\n",
                "start_path = os.getcwd()\n",
                "print(start_path)  # /home/nbuser/library\n",
                "# Далее попробуем подняться на директорию выше:\n",
                "os.chdir(\"..\")  # подняться на один уровень выше\n",
                "os.getcwd()  # '/home/nbuser'\n",
                "# Теперь вернемся в ту директорию, из которой стартовали. Изначально мы сохраняли её в переменной start_path.\n",
                "os.chdir(start_path)\n",
                "os.getcwd()  # '/home/nbuser/library'\n",
                "\n",
                "# С помощью функции os.listdir() можно получить весь список файлов, находящихся в директории. Если не указать никаких аргументов, то будет взята текущая директория.\n",
                "\n",
                "# список файлов и директорий в папке\n",
                "# import os\n",
                "print(os.listdir())\n",
                "# ['SnapchatLoader', 'FBLoader', 'tmp.py', '.gitignore', 'venv', '.git']\n",
                "\n",
                "if 'tmp.py' not in os.listdir():\n",
                "   print(\"Файл отсутствует в данной директории\")\n"
            ],
            "outputs": [
                {
                    "output_type": "stream",
                    "name": "stdout",
                    "text": [
                        "/home/az/DEV/Python/SF_PFS\n",
                        "['.git', 'venv', 'README.md', '.vscode', 'OOP', '.gitignore']\n",
                        "Файл отсутствует в данной директории\n"
                    ]
                }
            ],
            "metadata": {}
        },
        {
            "cell_type": "markdown",
            "source": [
                "**Для того, чтобы склеивать пути с учётом особенностей ОС, следует использовать функцию os.path.join().**"
            ],
            "metadata": {}
        },
        {
            "cell_type": "code",
            "execution_count": 5,
            "source": [
                "# соединяет пути с учётом особенностей операционной системы\n",
                "print(start_path)\n",
                "print(os.path.join(start_path, 'test'))\n",
                "\n",
                "# /home/nbuser/library\n",
                "# /home/nbuser/library/test\n"
            ],
            "outputs": [
                {
                    "output_type": "stream",
                    "name": "stdout",
                    "text": [
                        "/home/az/DEV/Python/SF_PFS\n",
                        "/home/az/DEV/Python/SF_PFS/test\n"
                    ]
                }
            ],
            "metadata": {}
        },
        {
            "cell_type": "markdown",
            "source": [
                "## Задание 3.4.3\n",
                "\n",
                "***Задание на самопроверку.***\n",
                "\n",
                "Сделайте функцию, которая принимает от пользователя путь и выводит всю информацию о содержимом этой папки. Для реализации используйте функцию встроенного модуля **os.walk()**. Если путь не указан, то сравнение начинается с текущей директории."
            ],
            "metadata": {}
        },
        {
            "cell_type": "code",
            "execution_count": 7,
            "source": [
                "# список файлов и директорий в папке\n",
                "import os\n",
                "path = input('Enter path to check: ')\n",
                "print(os.walk(path))\n"
            ],
            "outputs": [
                {
                    "output_type": "stream",
                    "name": "stdout",
                    "text": [
                        "<generator object walk at 0x7f3ad6060f90>\n"
                    ]
                }
            ],
            "metadata": {}
        },
        {
            "cell_type": "code",
            "execution_count": 13,
            "source": [
                "import os\n",
                "\n",
                "\n",
                "def walk_desc(path=None):\n",
                "   start_path = path if path is not None else os.getcwd()\n",
                "\n",
                "   for root, dirs, files in os.walk(start_path):\n",
                "       print(\"Текущая директория\", root)\n",
                "       print(\"---\")\n",
                "\n",
                "       if dirs:\n",
                "           print(\"Список папок\", dirs)\n",
                "       else:\n",
                "           print(\"Папок нет\")\n",
                "       print(\"---\")\n",
                "\n",
                "       if files:\n",
                "           print(\"Список файлов\", files)\n",
                "       else:\n",
                "           print(\"Файлов нет\")\n",
                "       print(\"---\")\n",
                "\n",
                "       if files and dirs:\n",
                "           print(\"Все пути:\")\n",
                "       for f in files:\n",
                "           print(\"Файл \", os.path.join(root, f))\n",
                "       for d in dirs:\n",
                "           print(\"Папка \", os.path.join(root, d))\n",
                "       print(\"===\")\n",
                "\n",
                "path = './OOP/C1_Practice'\n",
                "walk_desc(path)\n"
            ],
            "outputs": [
                {
                    "output_type": "stream",
                    "name": "stdout",
                    "text": [
                        "Текущая директория ./OOP/C1_Practice\n",
                        "---\n",
                        "Список папок ['__pycache__']\n",
                        "---\n",
                        "Список файлов ['testRectangle.py', 'cat.py', 'rectangle.py', 'cats.py']\n",
                        "---\n",
                        "Все пути:\n",
                        "Файл  ./OOP/C1_Practice/testRectangle.py\n",
                        "Файл  ./OOP/C1_Practice/cat.py\n",
                        "Файл  ./OOP/C1_Practice/rectangle.py\n",
                        "Файл  ./OOP/C1_Practice/cats.py\n",
                        "Папка  ./OOP/C1_Practice/__pycache__\n",
                        "===\n",
                        "Текущая директория ./OOP/C1_Practice/__pycache__\n",
                        "---\n",
                        "Папок нет\n",
                        "---\n",
                        "Список файлов ['cat.cpython-38.pyc', 'rectangle.cpython-38.pyc']\n",
                        "---\n",
                        "Файл  ./OOP/C1_Practice/__pycache__/cat.cpython-38.pyc\n",
                        "Файл  ./OOP/C1_Practice/__pycache__/rectangle.cpython-38.pyc\n",
                        "===\n"
                    ]
                }
            ],
            "metadata": {}
        },
        {
            "cell_type": "markdown",
            "source": [
                "## Работа с файлами\n",
                "\n",
                "*Python* «из коробки» располагает достаточно широким набором инструментов для работы с файлами. Для того чтобы начать работать с файлом, надо его открыть с помощью команды специальной функции **open**.\n",
                "\n",
                "    f = open('path/to/file', 'filemode', encoding='utf8')\n",
                "\n"
            ],
            "metadata": {}
        },
        {
            "cell_type": "markdown",
            "source": [
                "Давайте по порядку разберем все аргументы:\n",
                "\n",
                "1. path/to/file — путь к файлу может быть относительным или абсолютным. Можно указывать в Unix-стиле (path/to/file) или в Windows-стиле (path\\to\\file).\n",
                "2. filemode — режим, в котором файл нужно открывать.\n",
                "    Записывается в виде строки, состоит из следующих букв:\n",
                "    - r — открыть на чтение (по умолчанию);\n",
                "    - w — перезаписать и открыть на запись (если файла нет, то он создастся);\n",
                "    - x — создать и открыть на запись (если уже есть — исключение);\n",
                "    - a — открыть на дозапись (указатель будет поставлен в конец);\n",
                "    - t — открыть в текстовом виде (по умолчанию);\n",
                "    - b — открыть в бинарном виде.\n",
                "3. encoding — указание, в какой кодировке файл записан (utf8, cp1251 и т. д.) По умолчанию стоит utf-8.\n"
            ],
            "metadata": {}
        },
        {
            "cell_type": "code",
            "execution_count": 14,
            "source": [
                "f = open('test.txt', 'w', encoding='utf8')\n",
                "\n",
                "# Запишем в файл строку\n",
                "f.write(\"This is a test string\\n\")\n",
                "f.write(\"This is a new string\\n\")"
            ],
            "outputs": [
                {
                    "output_type": "execute_result",
                    "data": {
                        "text/plain": [
                            "21"
                        ]
                    },
                    "metadata": {},
                    "execution_count": 14
                }
            ],
            "metadata": {}
        },
        {
            "cell_type": "markdown",
            "source": [
                "После вызова команды write ваши данные не сразу попадут и сохранятся в файл. Связанно это с особенностями внутренней работы операционных систем. Если для вас критично своевременно попадание информации на жесткий диск компьютера, то после записи вызывайте f.flush() или закрывайте файл. Закрыть файл, можно с помощью метода close()."
            ],
            "metadata": {}
        },
        {
            "cell_type": "code",
            "execution_count": 17,
            "source": [
                "# обязательно нужно закрыть файл иначе он будет заблокирован ОС\n",
                "f.close()\n",
                "\n",
                "f = open('test.txt', 'r', encoding='utf8')\n",
                "print(f.read(10))  # This is a\n",
                "# считали остаток файла\n",
                "print(f.read())  # test string\\nThis is a new string\\n\n",
                "# обязательно закрываем файл\n",
                "f.close()\n"
            ],
            "outputs": [
                {
                    "output_type": "stream",
                    "name": "stdout",
                    "text": [
                        "This is a \n",
                        "test string\n",
                        "This is a new string\n",
                        "\n"
                    ]
                }
            ],
            "metadata": {}
        },
        {
            "cell_type": "markdown",
            "source": [
                "Зачастую с файлами удобнее работать построчно, поэтому для этого есть отдельные методы:\n",
                "\n",
                "  - writelines — записывает список строк в файл;\n",
                "  - readline — считывает из файла одну строку и возвращает её;\n",
                "  - readlines — считывает из файла все строки в список и возвращает их.\n",
                "\n",
                "Метод **f.writelines(sequence)** не будет сам за вас дописывать символ конца строки **(‘\\n’)**. Поэтому при необходимости его нужно прописать вручную."
            ],
            "metadata": {}
        },
        {
            "cell_type": "code",
            "execution_count": 18,
            "source": [
                "f = open('test.txt', 'a', encoding='utf8')  # открываем файл на дозапись\n",
                "\n",
                "sequence = [\"other string\\n\", \"123\\n\", \"test test\\n\"]\n",
                "# берет строки из sequence и записывает в файл (без переносов)\n",
                "f.writelines(sequence)\n",
                "\n",
                "f.close()\n"
            ],
            "outputs": [],
            "metadata": {}
        },
        {
            "cell_type": "code",
            "execution_count": 19,
            "source": [
                "f = open('test.txt', 'r', encoding='utf8')\n",
                "\n",
                "print(f.readlines())  # считывает все строки в список и возвращает список\n",
                "\n",
                "f.close()\n"
            ],
            "outputs": [
                {
                    "output_type": "stream",
                    "name": "stdout",
                    "text": [
                        "['This is a test string\\n', 'This is a new string\\n', 'other string\\n', '123\\n', 'test test\\n']\n"
                    ]
                }
            ],
            "metadata": {}
        },
        {
            "cell_type": "code",
            "execution_count": 20,
            "source": [
                "f = open('test.txt', 'r', encoding='utf8')\n",
                "\n",
                "print(f.readline())  # This is a test string\n",
                "print(f.read(4))  # This\n",
                "print(f.readline())  # is a new string\n",
                "\n",
                "f.close()\n"
            ],
            "outputs": [
                {
                    "output_type": "stream",
                    "name": "stdout",
                    "text": [
                        "This is a test string\n",
                        "\n",
                        "This\n",
                        " is a new string\n",
                        "\n"
                    ]
                }
            ],
            "metadata": {}
        },
        {
            "cell_type": "markdown",
            "source": [
                "## Файл как итератор\n",
                "\n",
                "***Объект файл является итератором, поэтому его можно использовать в цикле for.***"
            ],
            "metadata": {}
        },
        {
            "cell_type": "code",
            "execution_count": 21,
            "source": [
                "f = open('test.txt')  # можно перечислять строки в файле\n",
                "for line in f:\n",
                "    print(line, end='')\n",
                "\n",
                "# This is a test string\n",
                "# This is a new string\n",
                "# other string\n",
                "# 123\n",
                "# test test\n",
                "\n",
                "f.close()\n"
            ],
            "outputs": [
                {
                    "output_type": "stream",
                    "name": "stdout",
                    "text": [
                        "This is a test string\n",
                        "This is a new string\n",
                        "other string\n",
                        "123\n",
                        "test test\n"
                    ]
                }
            ],
            "metadata": {}
        },
        {
            "cell_type": "markdown",
            "source": [
                "## Менеджер контекста with\n",
                "\n",
                "Для явного указания места работы с файлом, а также чтобы не забывать закрывать файл после обработки, существует менеджер контекста **with**."
            ],
            "metadata": {}
        },
        {
            "cell_type": "code",
            "execution_count": 24,
            "source": [
                "# В блоке менеджера контекста открытый файл «жив» и с ним можно работать, при выходе из блока - файл закрывается.\n",
                "with open(\"test.txt\", 'rb') as f:\n",
                "    a = f.read(10)\n",
                "    b = f.read(23)\n",
                "print(a, b)\n",
                "# f.read(3)  # Error!"
            ],
            "outputs": [
                {
                    "output_type": "stream",
                    "name": "stdout",
                    "text": [
                        "b'This is a ' b'test string\\nThis is a n'\n"
                    ]
                }
            ],
            "metadata": {}
        },
        {
            "cell_type": "markdown",
            "source": [
                "## Задание 3.4.4\n",
                "\n",
                "*Задание на самопроверку.*\n",
                "\n",
                "Создайте любой файл на операционной системе под название input.txt и построчно перепишите его в файл output.txt."
            ],
            "metadata": {}
        },
        {
            "cell_type": "code",
            "execution_count": 26,
            "source": [
                "with open('input.txt', 'r') as input_file:\n",
                "   with open('output.txt', 'w') as output_file:\n",
                "       for line in input_file:\n",
                "           output_file.write(line)\n"
            ],
            "outputs": [],
            "metadata": {}
        },
        {
            "cell_type": "markdown",
            "source": [
                "## Задание 3.4.5\n",
                "\n",
                "*Задание на самопроверку.*\n",
                "\n",
                "Дан файл **numbers.txt**, компоненты которого являются действительными числами (файл создайте самостоятельно и заполните любыми числам, в одной строке одно число). Найдите сумму наибольшего и наименьшего из значений и запишите результат в файл **output.txt**."
            ],
            "metadata": {}
        },
        {
            "cell_type": "code",
            "execution_count": 28,
            "source": [
                "filename = 'numbers.txt'\n",
                "output = 'output.txt'\n",
                "\n",
                "with open(filename) as f:\n",
                "   min_ = max_ = float(f.readline())  # считали первое число\n",
                "   for line in f:\n",
                "       num = float(line)\n",
                "       if num > max_:\n",
                "           max_ = num\n",
                "       elif num < min_:\n",
                "           min_ = num\n",
                "\n",
                "   sum_ = min_ + max_\n",
                "\n",
                "with open(output, 'w') as f:\n",
                "   f.write(str(sum_))\n",
                "   f.write('\\n')\n"
            ],
            "outputs": [],
            "metadata": {}
        },
        {
            "cell_type": "markdown",
            "source": [
                "## Задание 3.4.6\n",
                "\n",
                "*Задание на самопроверку.*\n",
                "\n",
                "В текстовый файл построчно записаны фамилии и имена учащихся класса и их оценки за контрольную. Выведите на экран всех учащихся, чья оценка меньше 3 баллов. Cодержание файла:\n",
                "\n",
                "\n",
                "Иванов О. 4\n",
                "Петров И. 3\n",
                "Дмитриев Н. 2\n",
                "Смирнова О. 4\n",
                "Керченских В. 5\n",
                "Котов Д. 2\n",
                "Бирюкова Н. 1\n",
                "Данилов П. 3\n",
                "Аранских В. 5\n",
                "Лемонов Ю. 2\n",
                "Олегова К. 4"
            ],
            "metadata": {}
        },
        {
            "cell_type": "code",
            "execution_count": 42,
            "source": [
                "count = 0\n",
                "names = []\n",
                "st_names = ''\n",
                "for line in open(\"input.txt\"):\n",
                "   points = int(line.split()[-1])\n",
                "   if points < 3:\n",
                "       count += 1\n",
                "       names.append(line[:-3])\n",
                "print('Троечником в классе: ' + str(count) + \" чел.\")\n",
                "for i in names:\n",
                "  st_names += i + ' '\n",
                "print(\"Это \" + st_names)"
            ],
            "outputs": [
                {
                    "output_type": "stream",
                    "name": "stdout",
                    "text": [
                        "Троечником в классе: 4 чел.\n",
                        "Это Дмитриев Н. Котов Д. Бирюкова Н. Лемонов Ю. \n"
                    ]
                }
            ],
            "metadata": {}
        },
        {
            "cell_type": "markdown",
            "source": [
                "## Задание 3.4.7\n",
                "\n",
                "*Задание на самопроверку.*\n",
                "\n",
                "Выполните реверсирование строк файла (перестановка строк файла в обратном порядке)."
            ],
            "metadata": {}
        },
        {
            "cell_type": "code",
            "execution_count": 43,
            "source": [
                "with open('input.txt', 'r') as input_file:\n",
                "   with open('output.txt', 'w') as output_file:\n",
                "       for line in reversed(input_file.readlines()):\n",
                "           output_file.write(line)\n"
            ],
            "outputs": [],
            "metadata": {}
        },
        {
            "cell_type": "markdown",
            "source": [
                "# C3.5. Контекстные менеджеры. Ключевое слово with, принципы создания собственных контекстных менеджеров."
            ],
            "metadata": {}
        },
        {
            "cell_type": "markdown",
            "source": [
                "## **Контекстный менеджер** — определенная структура в языке Python (класс или генератор), основывающаяся на главном принципе: при его открытии и закрытии срабатывает заранее написанный программистом код.\n",
                "\n",
                "Открытие происходит при входе в блок с помощью ключевого слова with. Закрытие происходит, когда блок заканчивается. Например, на входе — открывается файл, на выходе — закрывается."
            ],
            "metadata": {}
        },
        {
            "cell_type": "code",
            "execution_count": null,
            "source": [
                "with open(\"file.bin\", \"wt\") as f:  # открываем файл с помощью with\n",
                "    f.write(\"abcdefg\")"
            ],
            "outputs": [],
            "metadata": {}
        },
        {
            "cell_type": "markdown",
            "source": [
                "Чтобы написать контекстный менеджер нужно всего лишь помнить о нескольких вещах:\n",
                "\n",
                "  1. Нужно создать класс и написать в нём метод __enter__. Код в этом методе будет выполняться при входе в контекстный менеджер (при создании объекта с ключевым словом with).\n",
                "  2. Написать метод __exit__. Этот метод будет выполнять код, помещённый в него, на выходе.\n",
                "  3. Добавить в этот метод три дополнительных аргумента помимо self — exc_type, exc_val, exc_tb. Зачем они нужны, расскажу чуть позже.\n"
            ],
            "metadata": {}
        },
        {
            "cell_type": "code",
            "execution_count": 44,
            "source": [
                "from datetime import datetime\n",
                "import time  # проверять действие измерителя будем с помощью библиотеки time\n",
                "\n",
                "\n",
                "# вся суть этого измерителя заключается в том, что мы считаем разницу в секундах между открытием и закрытием контекстного менеджера\n",
                "class Timer:\n",
                "    def __init__(self):\n",
                "        pass\n",
                "\n",
                "    def __enter__(self):  # этот метод вызывается при запуске с помощью with. Если вы хотите вернуть какой-то объект, чтобы потом работать с ним в контекстном менеджере, как в примере с файлом, то просто верните этот объект через return\n",
                "        self.start = datetime.utcnow()\n",
                "        return None\n",
                "\n",
                "    # этот метод срабатывает при выходе из контекстного менеджера\n",
                "    def __exit__(self, exc_type, exc_val, exc_tb):\n",
                "        print(\n",
                "            f\"Time passed: {(datetime.utcnow() - self.start).total_seconds()}\")\n",
                "\n",
                "\n",
                "with Timer():\n",
                "    time.sleep(2)  # засыпаем на 2 секунды\n"
            ],
            "outputs": [
                {
                    "output_type": "stream",
                    "name": "stdout",
                    "text": [
                        "Time passed: 2.000557\n"
                    ]
                }
            ],
            "metadata": {}
        },
        {
            "cell_type": "markdown",
            "source": [
                "В дополнение к комментариям в коде ещё хотелось бы сказать пару слов об аргументах метода \n",
                "\n",
                "    __exit__.\n",
                "\n",
                "О каждом из них по порядку:\n",
                "\n",
                "- ***exc_type*** — это тип исключения, из-за которого вылетел контекстный менеджер. Если всё прошло успешно, то значение этого аргумента будет None.\n",
                "- ***exc_val*** — сообщение в исключении. Аналогично: если всё прошло успешно, этот аргумент будет **None**.\n",
                "- ***exc_tb*** — объект сообщения от интерпретатора. Лучшего его вообще не трогать, если вы не разработчик языка, но тем не менее он всегда ждёт вас здесь. Возможно когда-то, после нашего курса вы…\n"
            ],
            "metadata": {}
        },
        {
            "cell_type": "markdown",
            "source": [
                "### **Возможность создания контекстных менеджеров через генераторы**\n",
                "\n",
                "Разница только в том, что контекстный менеджер на генераторах — это функция (для особо привередливых — генератор). В ней до \n",
                "\n",
                "    yield \n",
                "выполняется код, который мы могли бы записать в \n",
                "\n",
                "    __enter__ \n",
                ", если бы делали контекстный менеджер в виде класса, а после \n",
                "\n",
                "    yield \n",
                "пишем код, который выполнился бы в \n",
                "\n",
                "    __exit__. \n",
                "То есть до **yield** — всё что произойдёт при входе, после — всё, что на выходе. Вот и вся разница."
            ],
            "metadata": {}
        },
        {
            "cell_type": "code",
            "execution_count": 45,
            "source": [
                "from datetime import datetime\n",
                "import time\n",
                "\n",
                "\n",
                "from contextlib import contextmanager  # импортируем нужный нам декоратор\n",
                "\n",
                "\n",
                "@contextmanager  # оборачиваем функцию в декоратор contextmanager\n",
                "def timer():\n",
                "    start = datetime.utcnow()\n",
                "    # если вам нужно что-то вернуть через контекстный менеджер, просто вставьте этот объект сюда.\n",
                "    yield\n",
                "    print(f\"Time passed: {(datetime.utcnow() - start).total_seconds()}\")\n",
                "\n",
                "\n",
                "with timer():\n",
                "    time.sleep(2)\n"
            ],
            "outputs": [
                {
                    "output_type": "stream",
                    "name": "stdout",
                    "text": [
                        "Time passed: 2.002084\n"
                    ]
                }
            ],
            "metadata": {}
        },
        {
            "cell_type": "markdown",
            "source": [
                "## Задание 3.5.6\n",
                "\n",
                "**Напишите контекстный менеджер, который умеет безопасно работать с файлами.**\n",
                "\n",
                "При входе в контекстный менеджер передаются два аргумента: первый — путь к файлу который надо открыть, второй — тип открываемого файла (для записи, для чтения и т. д.). При выходе из контекстного менеджера файл должен закрываться. (Эталоном работы можно считать контекстный менеджер open)."
            ],
            "metadata": {}
        },
        {
            "cell_type": "code",
            "execution_count": 47,
            "source": [
                "class OpenFile:\n",
                "    def __init__(self, path, type):\n",
                "        self.file = open(path, type)\n",
                "\n",
                "    def __enter__(self):\n",
                "        return self.file\n",
                "\n",
                "    def __exit__(self, exc_type, exc_val, exc_tb):\n",
                "        self.file.close()\n",
                "\n",
                "\n",
                "with OpenFile('hello.txt', 'wt') as f:\n",
                "    f.write('Мой контекстный менеджер делает тоже самое!')\n"
            ],
            "outputs": [],
            "metadata": {}
        }
    ],
    "metadata": {
        "orig_nbformat": 4,
        "language_info": {
            "name": "python",
            "version": "3.8.10",
            "mimetype": "text/x-python",
            "codemirror_mode": {
                "name": "ipython",
                "version": 3
            },
            "pygments_lexer": "ipython3",
            "nbconvert_exporter": "python",
            "file_extension": ".py"
        },
        "kernelspec": {
            "name": "python3",
            "display_name": "Python 3.8.10 64-bit ('venv')"
        },
        "interpreter": {
            "hash": "312d0955094dd1d59c30395f476642db78179860bd9701d36a72175a7744f5d1"
        }
    },
    "nbformat": 4,
    "nbformat_minor": 2
}