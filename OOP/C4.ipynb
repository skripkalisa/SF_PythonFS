{
    "cells": [
        {
            "cell_type": "markdown",
            "source": [
                "# C4.2 О-нотация"
            ],
            "metadata": {}
        },
        {
            "cell_type": "code",
            "execution_count": 3,
            "source": [
                "import math\n",
                "n = 10000\n",
                "n_log = n*math.log(n,2)\n",
                "n_sq = n**2\n",
                "print(n*math.log(n,2))\n",
                "print(n**2)\n",
                "print(n_sq/n_log)"
            ],
            "outputs": [
                {
                    "output_type": "stream",
                    "name": "stdout",
                    "text": [
                        "132877.1237954945\n",
                        "100000000\n",
                        "752.574989159953\n"
                    ]
                }
            ],
            "metadata": {}
        },
        {
            "cell_type": "markdown",
            "source": [
                "# C4.3 Основные структуры данных"
            ],
            "metadata": {}
        },
        {
            "cell_type": "markdown",
            "source": [
                "# C4.4 Основные структуры данных: список, стек, очередь"
            ],
            "metadata": {}
        },
        {
            "cell_type": "markdown",
            "source": [
                "## Задание 4.4.1\n",
                "\n",
                "Убедитесь в этом самостоятельно, написав функцию p(n), вызывающей эту же самую функцию с аргументом, уменьшенным на единицу, и после чего печатающей значение аргумента. Обратите внимание на описанный порядок действий и наличие условие выхода из рекурсии."
            ],
            "metadata": {}
        },
        {
            "cell_type": "code",
            "execution_count": 1,
            "source": [
                "def rec(n):\n",
                "  if n == 0: return n\n",
                "  print(n)\n",
                "  return rec(n-1)\n",
                "\n",
                "rec(12)"
            ],
            "outputs": [
                {
                    "output_type": "stream",
                    "name": "stdout",
                    "text": [
                        "12\n",
                        "11\n",
                        "10\n",
                        "9\n",
                        "8\n",
                        "7\n",
                        "6\n",
                        "5\n",
                        "4\n",
                        "3\n",
                        "2\n",
                        "1\n"
                    ]
                },
                {
                    "output_type": "execute_result",
                    "data": {
                        "text/plain": [
                            "0"
                        ]
                    },
                    "metadata": {},
                    "execution_count": 1
                }
            ],
            "metadata": {}
        },
        {
            "cell_type": "code",
            "execution_count": 2,
            "source": [
                "def p(n):\n",
                "    if n == 0:\n",
                "        return\n",
                "    else:\n",
                "        p(n-1)\n",
                "        print(n)\n",
                "p(5)\n",
                "# 1\n",
                "# 2\n",
                "# 3\n",
                "# 4"
            ],
            "outputs": [
                {
                    "output_type": "stream",
                    "name": "stdout",
                    "text": [
                        "1\n",
                        "2\n",
                        "3\n",
                        "4\n",
                        "5\n"
                    ]
                }
            ],
            "metadata": {}
        },
        {
            "cell_type": "markdown",
            "source": [
                "Напишем функцию par_checker(string), которая проверяет строку string на корректность расстановки скобок."
            ],
            "metadata": {}
        },
        {
            "cell_type": "code",
            "execution_count": 7,
            "source": [
                "def par_checker(string):\n",
                "    stack = []  # инициализируем стек\n",
                "    \n",
                "    for s in string:  # читаем строку посимвольно\n",
                "        if s == \"(\":  # если открывающая скобка, \n",
                "            stack.append(s)  # добавляем ее в стек\n",
                "        elif s == \")\": \n",
                "            # если встретилась закрывающая скобка, то проверяем\n",
                "            # пуст ли стек и является ли верхний элемент - открывающей скобкой\n",
                "            if len(stack) > 0 and stack[-1] == \"(\":\n",
                "                stack.pop()  # удаляем из стека\n",
                "            else:  # иначе завершаем функцию с False\n",
                "                return False\n",
                "    # если стек пустой, то незакрытых скобок не осталось\n",
                "    # значит возвращаем True, иначе - False\n",
                "    return len(stack) == 0 \n",
                "\n",
                "par_checker('((()())())')\n",
                "par_checker('(5+6)*(7+8)/(4+3)')"
            ],
            "outputs": [
                {
                    "output_type": "execute_result",
                    "data": {
                        "text/plain": [
                            "True"
                        ]
                    },
                    "metadata": {},
                    "execution_count": 7
                }
            ],
            "metadata": {}
        },
        {
            "cell_type": "markdown",
            "source": [
                "## Задание 4.4.5\n",
                "\n",
                "Модифицируйте функцию проверки баланса скобок для двух видов скобок: круглых и квадратных.\n",
                "\n",
                "Для реализации такого алгоритма может быть полезным создание словаря, в котором закрывающая скобка — ключ, открывающая — значение."
            ],
            "metadata": {}
        },
        {
            "cell_type": "code",
            "execution_count": 8,
            "source": [
                "def par_checker(string):\n",
                "    stack = []  # инициализируем стек\n",
                "    \n",
                "    for s in string:  # читаем строку посимвольно\n",
                "        if s == \"(\" or s== \"[\":  # если открывающая скобка, \n",
                "            stack.append(s)  # добавляем ее в стек\n",
                "        elif s == \")\" or s == \"]\": \n",
                "            # если встретилась закрывающая скобка, то проверяем\n",
                "            # пуст ли стек и является ли верхний элемент - открывающей скобкой\n",
                "            if len(stack) > 0 and stack[-1] == \"(\":\n",
                "                stack.pop()  # удаляем из стека\n",
                "            else:  # иначе завершаем функцию с False\n",
                "                return False\n",
                "    # если стек пустой, то незакрытых скобок не осталось\n",
                "    # значит возвращаем True, иначе - False\n",
                "    return len(stack) == 0 \n",
                "\n",
                "par_checker('((()())())')\n",
                "par_checker('(5+6)*(7+8)/(4+3)')"
            ],
            "outputs": [
                {
                    "output_type": "execute_result",
                    "data": {
                        "text/plain": [
                            "True"
                        ]
                    },
                    "metadata": {},
                    "execution_count": 8
                }
            ],
            "metadata": {}
        },
        {
            "cell_type": "code",
            "execution_count": 14,
            "source": [
                "pars = {\")\" : \"(\", \"]\" : \"[\", \"}\" : \"{\"}\n",
                "\n",
                "def par_checker_mod(string):\n",
                "    stack = []\n",
                "    \n",
                "    for s in string:\n",
                "        if s in \"([{\":\n",
                "            stack.append(s)\n",
                "        elif s in \")]}\":\n",
                "            if len(stack) > 0 and stack[-1] == pars[s]:\n",
                "                stack.pop()\n",
                "            else:\n",
                "                return False\n",
                "    return len(stack) == 0 \n",
                "\n",
                "par_checker(\"{[}]\")"
            ],
            "outputs": [
                {
                    "output_type": "execute_result",
                    "data": {
                        "text/plain": [
                            "False"
                        ]
                    },
                    "metadata": {},
                    "execution_count": 14
                }
            ],
            "metadata": {}
        },
        {
            "cell_type": "markdown",
            "source": [
                "## Очередь"
            ],
            "metadata": {}
        },
        {
            "cell_type": "code",
            "execution_count": 19,
            "source": [
                "# Создадим класс Queue - нужная нам очередь\n",
                "class Queue:\n",
                "    # Конструктор нашего класса, в нём происходит нужная инициализация объекта\n",
                "    def __init__(self, max_size):\n",
                "        self.max_size = max_size  # размер очереди\n",
                "        self.task_num = 0  # будем хранить сквозной номер задачи\n",
                "\n",
                "        self.tasks = [0 for _ in range(self.max_size)]  # инициализируем список с нулевыми элементами\n",
                "        self.head = 0  # указатель на начало очереди\n",
                "        self.tail = 0  # указатель на элемент следующий за концом очереди\n",
                "    def is_empty(self):  # очередь пуста?\n",
                "      # да, если указатели совпадают и в них содержится ноль\n",
                "      return self.head == self.tail and self.tasks[self.head] == 0\n",
                "    def size(self):  # получаем размер очереди\n",
                "      if self.is_empty():  # если она пуста\n",
                "          return 0  # возвращаем ноль\n",
                "      elif self.head == self.tail:  # иначе, если очередь не пуста, но указатели совпадают\n",
                "          return self.max_size  # значит очередь заполнена\n",
                "      elif self.head > self.tail:  # если хвост очереди сместился в начало списка\n",
                "          return self.max_size - self.head + self.tail\n",
                "      else:  # или если хвост стоит правее начала\n",
                "          return self.tail - self.head\n",
                "    def add(self):\n",
                "      self.task_num += 1  # увеличиваем порядковый номер задачи\n",
                "      self.tasks[self.tail] = self.task_num  # добавляем его в очередь\n",
                "      print(f\"Задача №{self.tasks[self.tail]} добавлена\")\n",
                "\n",
                "      # увеличиваем указатель на 1 по модулю максимального числа элементов\n",
                "      # для зацикливания очереди в списке\n",
                "      self.tail = (self.tail + 1) % self.max_size\n",
                "\n",
                "    def show(self):  # выводим приоритетную задачу\n",
                "      print(f\"Задача №{self.tasks[self.head]} в приоритете\")\n",
                "\n",
                "    def do(self):  # выполняем приоритетную задачу\n",
                "      print(f\"Задача №{self.tasks[self.head]} выполнена\")\n",
                "      # после выполнения зануляем элемент по указателю\n",
                "      self.tasks[self.head] = 0\n",
                "      # и циклично перемещаем указатель\n",
                "      self.head = (self.head + 1) % self.max_size\n",
                "    # !!! Класс далее нужно дополнить методами !!!\n",
                "\n",
                "\n",
                "# Используем класс\n",
                "size = int(input(\"Определите размер очереди: \"))\n",
                "q = Queue(size)\n",
                "\n",
                "while True:\n",
                "    cmd = input(\"Введите команду:\")\n",
                "    if cmd == \"empty\": \n",
                "        if q.is_empty():\n",
                "            print(\"Очередь пустая\")\n",
                "        else:\n",
                "            print(\"В очереди есть задачи\")\n",
                "    elif cmd == \"size\":\n",
                "        print(\"Количество задач в очереди:\", q.size())\n",
                "    elif cmd == \"add\": \n",
                "        if q.size() != q.max_size:\n",
                "            q.add()\n",
                "        else:\n",
                "            print(\"Очередь переполнена\")\n",
                "    elif cmd == \"show\": \n",
                "        if q.is_empty():\n",
                "            print(\"Очередь пустая\")\n",
                "        else:\n",
                "            q.show()\n",
                "    elif cmd == \"do\": \n",
                "        if q.is_empty():\n",
                "            print(\"Очередь пустая\")\n",
                "        else:\n",
                "            q.do()\n",
                "    elif cmd == \"exit\": \n",
                "        for _ in range(q.size()):\n",
                "            q.do()\n",
                "        print(\"Очередь пустая. Завершение работы\")\n",
                "        break\n",
                "    else:\n",
                "        print(\"Введена неверная команда\")\n"
            ],
            "outputs": [
                {
                    "output_type": "stream",
                    "name": "stdout",
                    "text": [
                        "Задача №1 добавлена\n",
                        "Задача №2 добавлена\n",
                        "Задача №3 добавлена\n",
                        "Задача №4 добавлена\n",
                        "Задача №1 выполнена\n",
                        "Задача №2 выполнена\n",
                        "Задача №5 добавлена\n",
                        "Задача №6 добавлена\n",
                        "Задача №3 выполнена\n",
                        "Задача №7 добавлена\n",
                        "Задача №4 выполнена\n",
                        "Задача №5 выполнена\n",
                        "Задача №8 добавлена\n",
                        "Задача №9 добавлена\n",
                        "Задача №10 добавлена\n",
                        "Задача №6 выполнена\n",
                        "Задача №7 выполнена\n",
                        "Задача №8 выполнена\n",
                        "Задача №9 выполнена\n",
                        "Задача №10 выполнена\n",
                        "Очередь пустая. Завершение работы\n"
                    ]
                }
            ],
            "metadata": {}
        },
        {
            "cell_type": "markdown",
            "source": [
                "# C4.5 Нелинейные структуры данных: графы и деревья"
            ],
            "metadata": {}
        },
        {
            "cell_type": "code",
            "execution_count": 24,
            "source": [
                "G = {\"Адмиралтейская\" : \n",
                "        {\"Садовая\" : 4},\n",
                "    \"Садовая\" : \n",
                "        {\"Сенная площадь\" : 3, \n",
                "        \"Спасская\" : 3, \n",
                "        \"Адмиралтейская\" : 4, \n",
                "        \"Звенигородская\" : 5},\n",
                "    \"Сенная площадь\" : \n",
                "        {\"Садовая\" : 3, \n",
                "        \"Спасская\" : 3},\n",
                "    \"Спасская\" : \n",
                "        {\"Садовая\" : 3, \n",
                "        \"Сенная площадь\" : 3, \n",
                "        \"Достоевская\" : 4},\n",
                "    \"Звенигородская\" : \n",
                "        {\"Пушкинская\" : 3, \n",
                "        \"Садовая\" : 5},\n",
                "    \"Пушкинская\" : \n",
                "        {\"Звенигородская\" : 3, \n",
                "        \"Владимирская\" : 4},\n",
                "    \"Владимирская\" : \n",
                "        {\"Достоевская\" : 3, \n",
                "        \"Пушкинская\" : 4},\n",
                "    \"Достоевская\" : \n",
                "        {\"Владимирская\" : 3, \n",
                "        \"Спасская\" : 4}}"
            ],
            "outputs": [],
            "metadata": {}
        },
        {
            "cell_type": "code",
            "execution_count": 22,
            "source": [
                "D = {k : 100 for k in G.keys()}  # расстояния\n",
                "start_k = 'Адмиралтейская'  # стартовая вершина\n",
                "D[start_k] = 0  # расстояние от нее до самой себя равно нулю\n",
                "U = {k : False for k in G.keys()}  # флаги просмотра вершин\n",
                "\n",
                "for _ in range(len(D)):\n",
                "    # выбираем среди непросмотренных наименьшее по расстоянию\n",
                "    min_k = min([k for k in U.keys() if not U[k]], key = lambda x: D[x])\n",
                "\n",
                "    for v in G[min_k].keys():  # проходимся по всем смежным вершинам\n",
                "        D[v] = min(D[v], D[min_k] + G[min_k][v])  # минимум\n",
                "    U[min_k] = True  # просмотренную вершину помечаем\n",
                "\n",
                "D"
            ],
            "outputs": [
                {
                    "output_type": "execute_result",
                    "data": {
                        "text/plain": [
                            "{'Адмиралтейская': 0,\n",
                            " 'Садовая': 4,\n",
                            " 'Сенная площадь': 7,\n",
                            " 'Спасская': 7,\n",
                            " 'Звенигородская': 9,\n",
                            " 'Пушкинская': 12,\n",
                            " 'Владимирская': 14,\n",
                            " 'Достоевская': 11}"
                        ]
                    },
                    "metadata": {},
                    "execution_count": 22
                }
            ],
            "metadata": {}
        },
        {
            "cell_type": "markdown",
            "source": [
                "## Задание 4.5.3\n",
                "\n",
                "Модифицируйте алгоритм Дейкстры таким образом, что в массив P по соответствующему ключу будет записываться предок с минимальным расстоянием, если это необходимо."
            ],
            "metadata": {}
        },
        {
            "cell_type": "code",
            "execution_count": 27,
            "source": [
                "D = {k : 100 for k in G.keys()}  # расстояния\n",
                "start_k = 'Адмиралтейская'  # стартовая вершина\n",
                "D[start_k] = 0  # расстояние от нее до самой себя равно нулю\n",
                "U = {k : False for k in G.keys()}  # флаги просмотра вершин\n",
                "P = {k : None for k in G.keys()}  # предки\n",
                "\n",
                "for _ in range(len(D)):\n",
                "    # выбираем среди непросмотренных наименьшее по расстоянию\n",
                "    min_k = min([k for k in U.keys() if not U[k]], key = lambda x: D[x])\n",
                "\n",
                "    for v in G[min_k].keys():  # проходимся по всем смежным вершинам\n",
                "        if D[v] > D[min_k] + G[min_k][v]:  # если расстояние от текущей вершины меньше\n",
                "            D[v] = D[min_k] + G[min_k][v]  # то фиксируем его\n",
                "            P[v] = min_k  # и записываем как предок\n",
                "    U[min_k] = True  # просмотренную вершину помечаем\n",
                "\n",
                "pointer = 'Владимирская'  # куда должны прийти\n",
                "while pointer is not None:  # перемещаемся, пока не придем в стартовую точку\n",
                "    print(pointer)\n",
                "    pointer = P[pointer]\n",
                "D #Адмиралтейская, Садовая, Спасская, Достоевская, Владимирская"
            ],
            "outputs": [
                {
                    "output_type": "stream",
                    "name": "stdout",
                    "text": [
                        "Владимирская\n",
                        "Достоевская\n",
                        "Спасская\n",
                        "Садовая\n",
                        "Адмиралтейская\n"
                    ]
                },
                {
                    "output_type": "execute_result",
                    "data": {
                        "text/plain": [
                            "{'Адмиралтейская': 0,\n",
                            " 'Садовая': 4,\n",
                            " 'Сенная площадь': 7,\n",
                            " 'Спасская': 7,\n",
                            " 'Звенигородская': 9,\n",
                            " 'Пушкинская': 12,\n",
                            " 'Владимирская': 14,\n",
                            " 'Достоевская': 11}"
                        ]
                    },
                    "metadata": {},
                    "execution_count": 27
                }
            ],
            "metadata": {}
        },
        {
            "cell_type": "markdown",
            "source": [
                "## Деревья"
            ],
            "metadata": {}
        },
        {
            "cell_type": "code",
            "execution_count": 38,
            "source": [
                "class BinaryTree:\n",
                "    def __init__(self, value):\n",
                "        self.value = value\n",
                "        self.left_child = None\n",
                "        self.right_child = None\n",
                "\n",
                "    def insert_left(self, next_value):\n",
                "        if self.left_child is None:\n",
                "            self.left_child = BinaryTree(next_value)\n",
                "        else:\n",
                "            new_child = BinaryTree(next_value)\n",
                "            new_child.left_child = self.left_child\n",
                "            self.left_child = new_child\n",
                "        return self\n",
                "\n",
                "    def insert_right(self, next_value):\n",
                "        if self.right_child is None:\n",
                "            self.right_child = BinaryTree(next_value)\n",
                "        else:\n",
                "            new_child = BinaryTree(next_value)\n",
                "            new_child.right_child = self.right_child\n",
                "            self.right_child = new_child\n",
                "        return self\n",
                "\n",
                "    def pre_order(self):\n",
                "        print(self.value)  # процедура обработки\n",
                "\n",
                "        if self.left_child is not None:  # если левый потомок существует\n",
                "            self.left_child.pre_order()  # рекурсивно вызываем функцию\n",
                "\n",
                "        if self.right_child is not None:  # если правый потомок существует\n",
                "            self.right_child.pre_order()  # рекурсивно вызываем функцию\n",
                "\n",
                "    def post_order(self):\n",
                "        if self.left_child is not None:  # если левый потомок существует\n",
                "            self.left_child.post_order()  # рекурсивно вызываем функцию\n",
                "\n",
                "        if self.right_child is not None:  # если правый потомок существует\n",
                "            self.right_child.post_order()  # рекурсивно вызываем функцию\n",
                "\n",
                "        print(self.value)  # процедура обработки\n",
                "\n",
                "    def in_order(self):\n",
                "        if self.left_child is not None:  # если левый потомок существует\n",
                "            self.left_child.in_order()  # рекурсивно вызываем функцию\n",
                "\n",
                "        print(self.value)  # процедура обработки\n",
                "\n",
                "        if self.right_child is not None:  # если правый потомок существует\n",
                "            self.right_child.in_order()  # рекурсивно вызываем функцию"
            ],
            "outputs": [],
            "metadata": {}
        },
        {
            "cell_type": "markdown",
            "source": [
                "## Задание 4.5.5\n",
                "\n",
                "Реализуйте структуру дерева при помощи класса BinaryTree."
            ],
            "metadata": {}
        },
        {
            "cell_type": "code",
            "execution_count": 39,
            "source": [
                "# создаем корень и его потомки /7|2|5\\\n",
                "node_root = BinaryTree(2).insert_left(7).insert_right(5)\n",
                "# левое поддерево корня /2|7|6\\\n",
                "node_7 = node_root.left_child.insert_left(2).insert_right(6)\n",
                "# правое поддерево предыдущего узла /5|6|11\\\n",
                "node_6 = node_7.right_child.insert_left(5).insert_right(11)\n",
                "# правое поддерево корня /|5|9\\\n",
                "node_5 = node_root.right_child.insert_right(9)\n",
                "# левое поддерево предыдущего узла корня /4|9|\\\n",
                "node_9 = node_5.right_child.insert_left(4)"
            ],
            "outputs": [],
            "metadata": {}
        },
        {
            "cell_type": "code",
            "execution_count": 34,
            "source": [
                "node_root.pre_order()"
            ],
            "outputs": [
                {
                    "output_type": "stream",
                    "name": "stdout",
                    "text": [
                        "2\n",
                        "7\n",
                        "2\n",
                        "6\n",
                        "5\n",
                        "11\n",
                        "5\n",
                        "9\n",
                        "4\n"
                    ]
                }
            ],
            "metadata": {}
        },
        {
            "cell_type": "code",
            "execution_count": 37,
            "source": [
                "node_root.post_order()"
            ],
            "outputs": [
                {
                    "output_type": "stream",
                    "name": "stdout",
                    "text": [
                        "2\n",
                        "5\n",
                        "11\n",
                        "6\n",
                        "7\n",
                        "4\n",
                        "9\n",
                        "5\n",
                        "2\n"
                    ]
                }
            ],
            "metadata": {}
        },
        {
            "cell_type": "code",
            "execution_count": 40,
            "source": [
                "node_root.in_order()"
            ],
            "outputs": [
                {
                    "output_type": "stream",
                    "name": "stdout",
                    "text": [
                        "2\n",
                        "7\n",
                        "5\n",
                        "6\n",
                        "11\n",
                        "2\n",
                        "5\n",
                        "4\n",
                        "9\n"
                    ]
                }
            ],
            "metadata": {}
        },
        {
            "cell_type": "markdown",
            "source": [
                "# C4.6 Создание собственных структур\n",
                "\n",
                "#### Сейчас мы попробуем создать класс LinkedList, реализующий список. Элементы списка будут представлять собой экземпляры класса Node."
            ],
            "metadata": {}
        },
        {
            "cell_type": "code",
            "execution_count": 45,
            "source": [
                "class Node:  # класс элемента\n",
                "    def __init__(self, value = None, next_ = None):  # инициализируем\n",
                "        self.value = value  # значением\n",
                "        self.next = next_  # и ссылкой на следующий элемент\n",
                "\n",
                "    def __str__(self):\n",
                "        return \"Node value = \" + str(self.value)\n",
                "\n",
                "\n",
                "class LinkedList:  # класс списка\n",
                "    def __init__(self):  # инициализируем пустым\n",
                "        self.first = None\n",
                "        self.last = None\n",
                "        \n",
                "    def clear(self):  # очищаем список\n",
                "        self.__init__()\n",
                "    \n",
                "    def __str__(self):  # функция печати \n",
                "        R = ''\n",
                "        \n",
                "        pointer = self.first  # берем первый указатель\n",
                "        while pointer is not None:  # пока указатель не станет None\n",
                "            R += str(pointer.value)  # добавляем значение в строку\n",
                "            pointer = pointer.next  # идем дальше по указателю\n",
                "            if pointer is not None:  # если он существует добавляем пробел\n",
                "                R += ' '\n",
                "        return R\n",
                "\n",
                "    def pushleft(self, value):\n",
                "        if self.first is None:\n",
                "            self.first = Node(value)\n",
                "            self.last = self.first\n",
                "        else:\n",
                "            new_node = Node(value, self.first)\n",
                "            self.first = new_node\n",
                "\n",
                "    def pushright(self, value):\n",
                "        if self.first is None:\n",
                "            self.first = Node(value)\n",
                "            self.last = self.first\n",
                "        else:\n",
                "            new_node = Node(value)\n",
                "            self.last.next = new_node    \n",
                "            self.last = new_node\n",
                "\n",
                "    def popleft(self):\n",
                "        if self.first is None:  # если список пустой, возвращаем None\n",
                "            return None\n",
                "        elif self.first == self.last:  # если список содержит только один элемент\n",
                "            node = self.first  # сохраняем его\n",
                "            self.__init__()  # очищаем\n",
                "            return node  # и возвращаем сохраненный элемент\n",
                "        else:\n",
                "            node = self.first  # сохраняем первый элемент\n",
                "            self.first = self.first.next  # меняем указатель на первый элемент\n",
                "            return node  # возвращаем сохраненный\n",
                "\n",
                "    def popright(self): \n",
                "        if self.first is None:  # если список пустой, возвращаем None\n",
                "            return None\n",
                "        elif self.first == self.last: #  если список содержит только один элемент\n",
                "            node = self.first  # сохраняем его\n",
                "            self.__init__()  # очищаем\n",
                "            return node #  и возвращаем сохраненный элемент\n",
                "        else:\n",
                "            node = self.last  # сохраняем последний\n",
                "            pointer = self.first  # создаем указатель\n",
                "            while pointer.next is not node:  # пока не найдем предпоследний\n",
                "                pointer = pointer.next\n",
                "            pointer.next = None  # обнуляем указатели, чтобы\n",
                "            self.last = pointer  # предпоследний стал последним\n",
                "            return node  # возвращаем сохраненный\n",
                "\n",
                "    def __iter__(self):  # объявляем класс как итератор\n",
                "        self.current = self.first  # в текущий элемент помещаем первый\n",
                "        return self  # возвращаем итератор\n",
                "\n",
                "    def __next__(self):  # метод перехода\n",
                "        if self.current is None:  # если текущий стал последним\n",
                "            raise StopIteration  # вызываем исключение\n",
                "        else:\n",
                "            node = self.current  # сохраняем текущий элемент\n",
                "            self.current = self.current.next  # совершаем переход\n",
                "            return node  # и возвращаем сохраненный\n",
                "\n",
                "    def __len__(self):\n",
                "        count = 0\n",
                "        pointer = self.first\n",
                "        while pointer is not None:\n",
                "            count += 1\n",
                "            pointer = pointer.next\n",
                "        return count\n",
                "\n",
                "LL = LinkedList()\n",
                "\n",
                "LL.pushright(1)\n",
                "LL.pushleft(2)\n",
                "LL.pushright(3)\n",
                "LL.popright()\n",
                "LL.pushleft(4)\n",
                "LL.pushright(5)\n",
                "LL.popleft()\n",
                "\n",
                "print(LL)   \n",
                "\n",
                "print(len(LL))"
            ],
            "outputs": [
                {
                    "output_type": "stream",
                    "name": "stdout",
                    "text": [
                        "2 1 5\n",
                        "3\n"
                    ]
                }
            ],
            "metadata": {}
        },
        {
            "cell_type": "markdown",
            "source": [
                "# C4.7 Алгоритмы поиска"
            ],
            "metadata": {}
        },
        {
            "cell_type": "code",
            "execution_count": 3,
            "source": [
                "def find(array, element):\n",
                "    for i, a in enumerate(array):\n",
                "        if a == element:\n",
                "            return i\n",
                "    return False\n",
                "\n",
                "array = list(map(int, input().split()))\n",
                "element = int(input())\n",
                "\n",
                "print(array)\n",
                "print(element)\n",
                "print(find(array, element))"
            ],
            "outputs": [
                {
                    "output_type": "stream",
                    "name": "stdout",
                    "text": [
                        "[1, 2, 5, 3, 6, 5, 4, 7, 9, 9]\n",
                        "1\n",
                        "0\n"
                    ]
                }
            ],
            "metadata": {}
        },
        {
            "cell_type": "markdown",
            "source": [
                "## Задание 4.7.1\n",
                "\n",
                "Напишите функцию count, которая возвращает количество вхождений элемента в массив"
            ],
            "metadata": {}
        },
        {
            "cell_type": "code",
            "execution_count": null,
            "source": [
                "def count(array, element):\n",
                "    count = 0\n",
                "    for a in array:\n",
                "        if a == element:\n",
                "            count += 1\n",
                "    return count"
            ],
            "outputs": [],
            "metadata": {}
        },
        {
            "cell_type": "code",
            "execution_count": 51,
            "source": [
                "def binary_search(array, element, left, right): \n",
                "    if left > right:  # если левая граница превысила правую,\n",
                "        return False  # значит элемент отсутствует\n",
                "    \n",
                "    middle = (right+left) // 2  # находим середину\n",
                "    if array[middle] == element:  # если элемент в середине,\n",
                "        return middle  # возвращаем этот индекс\n",
                "    elif element < array[middle]:  # если элемент меньше элемента в середине\n",
                "        # рекурсивно ищем в левой половине\n",
                "        return binary_search(array, element, left, middle-1)\n",
                "    else:  # иначе в правой\n",
                "        return binary_search(array, element, middle+1, right)\n",
                "\n",
                "\n",
                "element = int(input())\n",
                "array = [i for i in range(1,100)] # 1,2,3,4,...\n",
                "\n",
                "# запускаем алгоритм на левой и правой границе\n",
                "print(binary_search(array, element, 0, 99))\n",
                "\n"
            ],
            "outputs": [
                {
                    "output_type": "stream",
                    "name": "stdout",
                    "text": [
                        "4\n"
                    ]
                }
            ],
            "metadata": {}
        },
        {
            "cell_type": "markdown",
            "source": [
                "# C4.8 Алгоритмы сортировки"
            ],
            "metadata": {}
        },
        {
            "cell_type": "markdown",
            "source": [
                "## Наивная сортировка"
            ],
            "metadata": {}
        },
        {
            "cell_type": "markdown",
            "source": [
                "```py\n",
                "import random  # модуль, с помощью которого перемешиваем массив\n",
                "\n",
                "# пусть имеем массив всего лишь из 9 элементов\n",
                "array = [2, 3, 1, 4, 6, 5, 9, 8, 7] \n",
                "\n",
                "is_sort = False  # станет True, если отсортирован\n",
                "count = 0  # счетчик количества перестановок\n",
                "\n",
                "while not is_sort:  # пока не отсортирован\n",
                "    count += 1  # прибавляем 1 к счетчику\n",
                "    \n",
                "    random.shuffle(array)  # перемешиваем массив\n",
                "    \n",
                "    # проверяем отсортирован ли\n",
                "    is_sort = True\n",
                "    for i in range(len(array)-1):\n",
                "        if array[i] > array[i+1]:\n",
                "            is_sort = False\n",
                "            break\n",
                "            \n",
                "print(array)\n",
                "# [1, 2, 3, 4, 5, 6, 7, 8, 9]\n",
                "print(count)\n",
                "# 290698"
            ],
            "metadata": {}
        },
        {
            "cell_type": "code",
            "execution_count": 24,
            "source": [
                "fact100 = '93 326 215 443 944 152 681 699 238 856 266 700 490 715 968 264 381 621 468 592 963 895 217 599 993 229 915 608 941 463 976 156 518 286 253 697 920 827 223 758 251 185 210 916 864 000 000 000 000 000 000 000 000'\n",
                "list100 = fact100.split(' ')\n",
                "str100 = ''\n",
                "print(len(str100.join(list100)))\n",
                "len(str100)\n",
                "# len(str(fact100.strip()))\n",
                "\n",
                "# len(fact100.strip().split(' '))"
            ],
            "outputs": [
                {
                    "output_type": "stream",
                    "name": "stdout",
                    "text": [
                        "158\n"
                    ]
                },
                {
                    "output_type": "execute_result",
                    "data": {
                        "text/plain": [
                            "0"
                        ]
                    },
                    "metadata": {},
                    "execution_count": 24
                }
            ],
            "metadata": {}
        },
        {
            "cell_type": "markdown",
            "source": [
                "## Сортировка выбором"
            ],
            "metadata": {}
        },
        {
            "cell_type": "markdown",
            "source": [
                "## Задание 4.8.2\n",
                "\n",
                "Посчитайте количество сравнений, которые производятся в алгоритме выбором из примера."
            ],
            "metadata": {}
        },
        {
            "cell_type": "code",
            "execution_count": 29,
            "source": [
                "array = [2, 3, 1, 4, 6, 5, 9, 8, 7]\n",
                "count = 0\n",
                "for i in range(len(array)):  # проходим по всему массиву\n",
                "    idx_min = i  # сохраняем индекс предположительно минимального элемента\n",
                "    for j in range(i, len(array)):  \n",
                "        if array[j] < array[idx_min]:\n",
                "            idx_min = j\n",
                "        count +=1\n",
                "    if i != idx_min:  # если индекс не совпадает с минимальным, меняем\n",
                "        array[i], array[idx_min] = array[idx_min], array[i]\n",
                "        # count +=1\n",
                "        \n",
                "print(array)\n",
                "count"
            ],
            "outputs": [
                {
                    "output_type": "stream",
                    "name": "stdout",
                    "text": [
                        "[1, 2, 3, 4, 5, 6, 7, 8, 9]\n"
                    ]
                },
                {
                    "output_type": "execute_result",
                    "data": {
                        "text/plain": [
                            "45"
                        ]
                    },
                    "metadata": {},
                    "execution_count": 29
                }
            ],
            "metadata": {}
        },
        {
            "cell_type": "markdown",
            "source": [
                "## Задание 4.8.3\n",
                "\n",
                "Модифицируйте описанный алгоритм для сортировки по убыванию."
            ],
            "metadata": {}
        },
        {
            "cell_type": "code",
            "execution_count": 30,
            "source": [
                "array = [2, 3, 1, 4, 6, 5, 9, 8, 7]\n",
                "count = 0\n",
                "for i in range(len(array)):  # проходим по всему массиву\n",
                "    idx_max = i  # сохраняем индекс предположительно минимального элемента\n",
                "    for j in range(i, len(array)):  \n",
                "        if array[j] > array[idx_max]:\n",
                "            idx_max = j\n",
                "        count +=1\n",
                "    if i != idx_max:  # если индекс не совпадает с минимальным, меняем\n",
                "        array[i], array[idx_max] = array[idx_max], array[i]\n",
                "        # count +=1\n",
                "        \n",
                "print(array)\n",
                "count"
            ],
            "outputs": [
                {
                    "output_type": "stream",
                    "name": "stdout",
                    "text": [
                        "[9, 8, 7, 6, 5, 4, 3, 2, 1]\n"
                    ]
                },
                {
                    "output_type": "execute_result",
                    "data": {
                        "text/plain": [
                            "45"
                        ]
                    },
                    "metadata": {},
                    "execution_count": 30
                }
            ],
            "metadata": {}
        },
        {
            "cell_type": "markdown",
            "source": [
                "## Сортировка пузырьком"
            ],
            "metadata": {}
        },
        {
            "cell_type": "code",
            "execution_count": 31,
            "source": [
                "array = [2, 3, 1, 4, 6, 5, 9, 8, 7]\n",
                "\n",
                "for i in range(len(array)):\n",
                "    for j in range(len(array)-i-1):\n",
                "        if array[j] > array[j+1]:\n",
                "            array[j], array[j+1] = array[j+1], array[j]\n",
                "        \n",
                "print(array)"
            ],
            "outputs": [
                {
                    "output_type": "stream",
                    "name": "stdout",
                    "text": [
                        "[1, 2, 3, 4, 5, 6, 7, 8, 9]\n"
                    ]
                }
            ],
            "metadata": {}
        },
        {
            "cell_type": "markdown",
            "source": [
                "## Сортировка вставками"
            ],
            "metadata": {}
        },
        {
            "cell_type": "code",
            "execution_count": 34,
            "source": [
                "array = [2, 3, 1, 4, 6, 5, 9, 8, 7]\n",
                "for i in range(1, len(array)):\n",
                "    x = array[i]\n",
                "    idx = i\n",
                "    while idx > 0 and array[idx-1] > x:\n",
                "        array[idx] = array[idx-1]\n",
                "        idx -= 1\n",
                "        print(array)\n",
                "    array[idx] = x\n",
                "\n",
                "print(array)"
            ],
            "outputs": [
                {
                    "output_type": "stream",
                    "name": "stdout",
                    "text": [
                        "[2, 3, 3, 4, 6, 5, 9, 8, 7]\n",
                        "[2, 2, 3, 4, 6, 5, 9, 8, 7]\n",
                        "[1, 2, 3, 4, 6, 6, 9, 8, 7]\n",
                        "[1, 2, 3, 4, 5, 6, 9, 9, 7]\n",
                        "[1, 2, 3, 4, 5, 6, 8, 9, 9]\n",
                        "[1, 2, 3, 4, 5, 6, 8, 8, 9]\n",
                        "[1, 2, 3, 4, 5, 6, 7, 8, 9]\n"
                    ]
                }
            ],
            "metadata": {}
        },
        {
            "cell_type": "markdown",
            "source": [
                "##  Задание 4.8.5\n",
                "\n",
                "Чему равно количество сравнений, которые производятся в алгоритме сортировки вставками? Проверьте на том же массиве, как и в предыдущем аналогичном задании."
            ],
            "metadata": {}
        },
        {
            "cell_type": "code",
            "execution_count": 39,
            "source": [
                "array = [2, 3, 1, 4, 6, 5, 9, 8, 7]\n",
                "count = 0\n",
                "for i in range(1, len(array)):\n",
                "    x = array[i]\n",
                "    idx = i\n",
                "    while idx > 0 and array[idx-1] > x:\n",
                "        array[idx] = array[idx-1]\n",
                "        idx -= 1\n",
                "        print(array)\n",
                "        count += 1\n",
                "    array[idx] = x\n",
                "\n",
                "print(array)\n",
                "count"
            ],
            "outputs": [
                {
                    "output_type": "stream",
                    "name": "stdout",
                    "text": [
                        "[2, 3, 3, 4, 6, 5, 9, 8, 7]\n",
                        "[2, 2, 3, 4, 6, 5, 9, 8, 7]\n",
                        "[1, 2, 3, 4, 6, 6, 9, 8, 7]\n",
                        "[1, 2, 3, 4, 5, 6, 9, 9, 7]\n",
                        "[1, 2, 3, 4, 5, 6, 8, 9, 9]\n",
                        "[1, 2, 3, 4, 5, 6, 8, 8, 9]\n",
                        "[1, 2, 3, 4, 5, 6, 7, 8, 9]\n"
                    ]
                },
                {
                    "output_type": "execute_result",
                    "data": {
                        "text/plain": [
                            "6"
                        ]
                    },
                    "metadata": {},
                    "execution_count": 39
                }
            ],
            "metadata": {}
        },
        {
            "cell_type": "markdown",
            "source": [
                "## Сортировка слиянием"
            ],
            "metadata": {}
        },
        {
            "cell_type": "code",
            "execution_count": 41,
            "source": [
                "array = [2, 3, 1, 4, 6, 5, 9, 8, 7]\n",
                "\n",
                "def merge_sort(L):  # «разделяй»\n",
                "    if len(L) < 2:  # если кусок массива равен 2, \n",
                "        return L[:]  # выходим из рекурсии\n",
                "    else:\n",
                "        middle = len(L) // 2  # ищем середину\n",
                "        left = merge_sort(L[:middle])  # рекурсивно делим левую часть\n",
                "        right = merge_sort(L[middle:])  # и правую\n",
                "        return merge(left, right)  # выполняем слияние\n",
                "    \n",
                "\n",
                "def merge(left, right):  # «властвуй»\n",
                "    result = []  # результирующий массив\n",
                "    i,j = 0,0  # указатели на элементы\n",
                "    \n",
                "    # пока указатели не вышли за границы\n",
                "    while i < len(left) and j < len(right):\n",
                "        if left[i] < right[j]:\n",
                "            result.append(left[i])\n",
                "            i += 1\n",
                "        else:\n",
                "            result.append(right[j])\n",
                "            j += 1\n",
                "    \n",
                "    # добавляем хвосты\n",
                "    while i < len(left):\n",
                "        result.append(left[i])\n",
                "        i += 1\n",
                "        \n",
                "    while j < len(right):\n",
                "        result.append(right[j])\n",
                "        j += 1\n",
                "        \n",
                "    return result\n",
                "\n",
                "print(array)\n",
                "new_arr = merge_sort(array)\n",
                "print(new_arr)"
            ],
            "outputs": [
                {
                    "output_type": "stream",
                    "name": "stdout",
                    "text": [
                        "[2, 3, 1, 4, 6, 5, 9, 8, 7]\n",
                        "[1, 2, 3, 4, 5, 6, 7, 8, 9]\n"
                    ]
                }
            ],
            "metadata": {}
        },
        {
            "cell_type": "markdown",
            "source": [
                "## Быстрая сортировка"
            ],
            "metadata": {}
        },
        {
            "cell_type": "code",
            "execution_count": 50,
            "source": [
                "array = [2, 3, 1, 4, 6, 5, 9, 8, 7]\n",
                "\n",
                "def qsort(array, left, right):\n",
                "    middle = (left+right) // 2\n",
                "    \n",
                "    p = array[middle]\n",
                "    i,j = left, right\n",
                "    while i <= j:\n",
                "        while array[i] < p:\n",
                "            i += 1\n",
                "        while array[j] > p:\n",
                "            j -= 1\n",
                "        if i <= j:\n",
                "            array[i], array[j] = array[j], array[i]\n",
                "            i += 1\n",
                "            j -= 1\n",
                "        \n",
                "    if j > left:\n",
                "        qsort(array, left, j)\n",
                "    if right > i:\n",
                "        qsort(array, i, right)\n",
                "\n",
                "qsort(array, 0 , 5)\n",
                "\n",
                "print(array)"
            ],
            "outputs": [
                {
                    "output_type": "stream",
                    "name": "stdout",
                    "text": [
                        "[1, 2, 3, 4, 5, 6, 9, 8, 7]\n"
                    ]
                }
            ],
            "metadata": {}
        },
        {
            "cell_type": "markdown",
            "source": [
                "## Задание 4.8.7\n",
                "\n",
                "Модифицируйте алгоритм быстрой сортировки таким образом, чтобы ведущий элемент выбирался как случайный среди подмассива, который сортируется на данном этапе. Воспользуйтесь функцией из пакета random."
            ],
            "metadata": {}
        },
        {
            "cell_type": "code",
            "execution_count": 55,
            "source": [
                "import random\n",
                "\n",
                "# random.choice(array[idx_left: idx_right])\n",
                "count_ = 0\n",
                "array = [2, 3, 1, 4, 6, 5, 9, 8, 7]\n",
                "\n",
                "\n",
                "def qsort_random(array, left, right):    \n",
                "    p = random.choice(array[left:right+1])\n",
                "    i,j = left, right\n",
                "    while i <= j:\n",
                "        while array[i] < p:\n",
                "            i += 1\n",
                "        while array[j] > p:\n",
                "            j -= 1\n",
                "        if i <= j:\n",
                "            global count_\n",
                "            count_ += 1\n",
                "            array[i], array[j] = array[j], array[i]\n",
                "            i += 1\n",
                "            j -= 1\n",
                "        \n",
                "    if j > left:\n",
                "        qsort_random(array, left, j)\n",
                "    if right > i:\n",
                "        qsort_random(array, i, right)\n",
                "\n",
                "qsort(array, 0 , 8)\n",
                "\n",
                "print(array)\n",
                "\n",
                "count_"
            ],
            "outputs": [
                {
                    "output_type": "stream",
                    "name": "stdout",
                    "text": [
                        "[1, 2, 3, 4, 5, 6, 7, 8, 9]\n"
                    ]
                },
                {
                    "output_type": "execute_result",
                    "data": {
                        "text/plain": [
                            "0"
                        ]
                    },
                    "metadata": {},
                    "execution_count": 55
                }
            ],
            "metadata": {}
        }
    ],
    "metadata": {
        "orig_nbformat": 4,
        "language_info": {
            "name": "python",
            "version": "3.8.10",
            "mimetype": "text/x-python",
            "codemirror_mode": {
                "name": "ipython",
                "version": 3
            },
            "pygments_lexer": "ipython3",
            "nbconvert_exporter": "python",
            "file_extension": ".py"
        },
        "kernelspec": {
            "name": "python3",
            "display_name": "Python 3.8.10 64-bit"
        },
        "interpreter": {
            "hash": "31f2aee4e71d21fbe5cf8b01ff0e069b9275f58929596ceb00d14d90e3e16cd6"
        }
    },
    "nbformat": 4,
    "nbformat_minor": 2
}