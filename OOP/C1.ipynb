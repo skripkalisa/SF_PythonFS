{
 "metadata": {
  "language_info": {
   "codemirror_mode": {
    "name": "ipython",
    "version": 3
   },
   "file_extension": ".py",
   "mimetype": "text/x-python",
   "name": "python",
   "nbconvert_exporter": "python",
   "pygments_lexer": "ipython3",
   "version": "3.8.10"
  },
  "orig_nbformat": 4,
  "kernelspec": {
   "name": "python3",
   "display_name": "Python 3.8.10 64-bit"
  },
  "interpreter": {
   "hash": "31f2aee4e71d21fbe5cf8b01ff0e069b9275f58929596ceb00d14d90e3e16cd6"
  }
 },
 "nbformat": 4,
 "nbformat_minor": 2,
 "cells": [
  {
   "source": [
    "# C1.4. Классы"
   ],
   "cell_type": "markdown",
   "metadata": {}
  },
  {
   "cell_type": "code",
   "execution_count": null,
   "metadata": {},
   "outputs": [],
   "source": [
    "class User:\n",
    "    number_of_fingers = 5\n",
    "    number_of_eyes = 2\n",
    "\n",
    "lancelot = User()\n",
    "print(lancelot.number_of_fingers)"
   ]
  },
  {
   "source": [
    "# C1.5. Магический метод __init__\n",
    "Метод __init__ заранее определяет атрибуты новых экземпляров. Первым аргументом он обязательно принимает на вход self, а дальше — произвольный набор аргументов, как обычная функция:"
   ],
   "cell_type": "markdown",
   "metadata": {}
  },
  {
   "cell_type": "code",
   "execution_count": 1,
   "metadata": {},
   "outputs": [],
   "source": [
    "class User:\n",
    "    def __init__(self, name, email):\n",
    "        self.name = name\n",
    "        self.email = email"
   ]
  },
  {
   "source": [
    "# C1.6. Методы и функции\n",
    "Метод — это всего лишь функция, реализованная внутри класса, и первым аргументом принимающая self — именно так метод получает доступ к экземпляру класса."
   ],
   "cell_type": "markdown",
   "metadata": {}
  },
  {
   "cell_type": "code",
   "execution_count": 4,
   "metadata": {},
   "outputs": [],
   "source": [
    "class Event:\n",
    "    def __init__(self, timestamp, event_type, session_id):\n",
    "        self.timestamp = timestamp\n",
    "        self.type = event_type\n",
    "        self.session_id = session_id"
   ]
  },
  {
   "cell_type": "code",
   "execution_count": 5,
   "metadata": {},
   "outputs": [],
   "source": [
    "events = [\n",
    "    {\n",
    "     \"timestamp\": 1554583508000,\n",
    "     \"type\": \"itemViewEvent\",\n",
    "     \"session_id\": \"0:NynteeXG:MYlskrqZbcmXNSFEJaZIsNVGeDLLpmct\",\n",
    "    },\n",
    "    {\n",
    "     \"timestamp\": 1555296337000,\n",
    "     \"type\": \"itemViewEvent\",\n",
    "     \"session_id\": \"0:NynteeXG:MYlskrqZbcmXNSFEJaZIsNVGeDLLpmct\",\n",
    "    },\n",
    "    {\n",
    "     \"timestamp\": 1549461608000,\n",
    "     \"type\": \"itemBuyEvent\",\n",
    "     \"session_id\": \"0:NynteeXG:MYlskrqZbcmXNSFEJaZIsNVGeDLLpmct\",\n",
    "    },\n",
    "]"
   ]
  },
  {
   "cell_type": "code",
   "execution_count": 6,
   "metadata": {},
   "outputs": [
    {
     "output_type": "stream",
     "name": "stdout",
     "text": [
      "1554583508000\n1555296337000\n1549461608000\n"
     ]
    }
   ],
   "source": [
    "for event in events:\n",
    "    event_obj = Event(timestamp=event.get(\"timestamp\"),\n",
    "                      event_type=event.get(\"type\"),\n",
    "                      session_id=event.get(\"session_id\"))\n",
    "    print(event_obj.timestamp)"
   ]
  },
  {
   "cell_type": "code",
   "execution_count": 7,
   "metadata": {},
   "outputs": [],
   "source": [
    "class Event:\n",
    "    def __init__(self, timestamp=0, event_type=\"\", session_id=\"\"):\n",
    "        self.timestamp = timestamp\n",
    "        self.type = event_type\n",
    "        self.session_id = session_id\n",
    "    def init_from_dict(self, event_dict):\n",
    "        self.timestamp = event_dict.get(\"timestamp\")\n",
    "        self.type = event_dict.get(\"type\")\n",
    "        self.session_id = event_dict.get(\"session_id\")"
   ]
  },
  {
   "cell_type": "code",
   "execution_count": 8,
   "metadata": {},
   "outputs": [
    {
     "output_type": "stream",
     "name": "stdout",
     "text": [
      "1554583508000\n1555296337000\n1549461608000\n"
     ]
    }
   ],
   "source": [
    "for event in events:\n",
    "    event_obj = Event()\n",
    "    event_obj.init_from_dict(event)\n",
    "    print(event_obj.timestamp)"
   ]
  },
  {
   "cell_type": "code",
   "execution_count": 9,
   "metadata": {},
   "outputs": [
    {
     "output_type": "stream",
     "name": "stdout",
     "text": [
      "1554583508000\n1555296337000\n1549461608000\n"
     ]
    }
   ],
   "source": [
    "class Event:\n",
    "    def __init__(self, timestamp, event_type, session_id):\n",
    "        self.timestamp = timestamp\n",
    "        self.type = event_type\n",
    "        self.session_id = session_id\n",
    "events = [\n",
    "    {\n",
    "     \"timestamp\": 1554583508000,\n",
    "     \"type\": \"itemViewEvent\",\n",
    "     \"session_id\": \"@:NynteeXG:MYlskrqZbcmXNSFEJaZIsNVGeDLLpmct\",\n",
    "    },\n",
    "    {\n",
    "     \"timestamp\": 1555296337000,\n",
    "     \"type\": \"itemViewEvent\",\n",
    "     \"session_id\": \"@:NynteeXG:MYlskrqZbcmXNSFEJaZIsNVGeDLLpmct\", \n",
    "    },\n",
    "    {\n",
    "     \"timestamp\": 1549461608000,\n",
    "     \"type\": \"itemBuyEvent\",\n",
    "     \"session_id\": \"@:NynteeXG:MYlskrqZbcmXNSFEJaZIsNVGeDLLpmct\", \n",
    "    },\n",
    "]\n",
    "\n",
    "\n",
    "for event in events:\n",
    "    event_obj = Event(timestamp=event.get(\"timestamp\"),\n",
    "\t              event_type=event.get(\"type\"),\n",
    "\t\t      session_id=event.get(\"session_id\"))\n",
    "    print(event_obj.timestamp)"
   ]
  },
  {
   "cell_type": "code",
   "execution_count": null,
   "metadata": {},
   "outputs": [],
   "source": []
  }
 ]
}