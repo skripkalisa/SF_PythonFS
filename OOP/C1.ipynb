{
 "metadata": {
  "language_info": {
   "codemirror_mode": {
    "name": "ipython",
    "version": 3
   },
   "file_extension": ".py",
   "mimetype": "text/x-python",
   "name": "python",
   "nbconvert_exporter": "python",
   "pygments_lexer": "ipython3",
   "version": "3.8.10"
  },
  "orig_nbformat": 4,
  "kernelspec": {
   "name": "python3",
   "display_name": "Python 3.8.10 64-bit"
  },
  "interpreter": {
   "hash": "31f2aee4e71d21fbe5cf8b01ff0e069b9275f58929596ceb00d14d90e3e16cd6"
  }
 },
 "nbformat": 4,
 "nbformat_minor": 2,
 "cells": [
  {
   "source": [
    "# C1.4. Классы"
   ],
   "cell_type": "markdown",
   "metadata": {}
  },
  {
   "cell_type": "code",
   "execution_count": null,
   "metadata": {},
   "outputs": [],
   "source": [
    "class User:\n",
    "    number_of_fingers = 5\n",
    "    number_of_eyes = 2\n",
    "\n",
    "lancelot = User()\n",
    "print(lancelot.number_of_fingers)"
   ]
  },
  {
   "source": [
    "# C1.5. Магический метод __init__\n",
    "Метод __init__ заранее определяет атрибуты новых экземпляров. Первым аргументом он обязательно принимает на вход self, а дальше — произвольный набор аргументов, как обычная функция:"
   ],
   "cell_type": "markdown",
   "metadata": {}
  },
  {
   "cell_type": "code",
   "execution_count": 1,
   "metadata": {},
   "outputs": [],
   "source": [
    "class User:\n",
    "    def __init__(self, name, email):\n",
    "        self.name = name\n",
    "        self.email = email"
   ]
  },
  {
   "source": [
    "# C1.6. Методы и функции\n",
    "Метод — это всего лишь функция, реализованная внутри класса, и первым аргументом принимающая self — именно так метод получает доступ к экземпляру класса."
   ],
   "cell_type": "markdown",
   "metadata": {}
  },
  {
   "cell_type": "code",
   "execution_count": 4,
   "metadata": {},
   "outputs": [],
   "source": [
    "class Event:\n",
    "    def __init__(self, timestamp, event_type, session_id):\n",
    "        self.timestamp = timestamp\n",
    "        self.type = event_type\n",
    "        self.session_id = session_id"
   ]
  },
  {
   "cell_type": "code",
   "execution_count": 5,
   "metadata": {},
   "outputs": [],
   "source": [
    "events = [\n",
    "    {\n",
    "     \"timestamp\": 1554583508000,\n",
    "     \"type\": \"itemViewEvent\",\n",
    "     \"session_id\": \"0:NynteeXG:MYlskrqZbcmXNSFEJaZIsNVGeDLLpmct\",\n",
    "    },\n",
    "    {\n",
    "     \"timestamp\": 1555296337000,\n",
    "     \"type\": \"itemViewEvent\",\n",
    "     \"session_id\": \"0:NynteeXG:MYlskrqZbcmXNSFEJaZIsNVGeDLLpmct\",\n",
    "    },\n",
    "    {\n",
    "     \"timestamp\": 1549461608000,\n",
    "     \"type\": \"itemBuyEvent\",\n",
    "     \"session_id\": \"0:NynteeXG:MYlskrqZbcmXNSFEJaZIsNVGeDLLpmct\",\n",
    "    },\n",
    "]"
   ]
  },
  {
   "cell_type": "code",
   "execution_count": 6,
   "metadata": {},
   "outputs": [
    {
     "output_type": "stream",
     "name": "stdout",
     "text": [
      "1554583508000\n1555296337000\n1549461608000\n"
     ]
    }
   ],
   "source": [
    "for event in events:\n",
    "    event_obj = Event(timestamp=event.get(\"timestamp\"),\n",
    "                      event_type=event.get(\"type\"),\n",
    "                      session_id=event.get(\"session_id\"))\n",
    "    print(event_obj.timestamp)"
   ]
  },
  {
   "cell_type": "code",
   "execution_count": 7,
   "metadata": {},
   "outputs": [],
   "source": [
    "class Event:\n",
    "    def __init__(self, timestamp=0, event_type=\"\", session_id=\"\"):\n",
    "        self.timestamp = timestamp\n",
    "        self.type = event_type\n",
    "        self.session_id = session_id\n",
    "    def init_from_dict(self, event_dict):\n",
    "        self.timestamp = event_dict.get(\"timestamp\")\n",
    "        self.type = event_dict.get(\"type\")\n",
    "        self.session_id = event_dict.get(\"session_id\")"
   ]
  },
  {
   "cell_type": "code",
   "execution_count": 8,
   "metadata": {},
   "outputs": [
    {
     "output_type": "stream",
     "name": "stdout",
     "text": [
      "1554583508000\n1555296337000\n1549461608000\n"
     ]
    }
   ],
   "source": [
    "for event in events:\n",
    "    event_obj = Event()\n",
    "    event_obj.init_from_dict(event)\n",
    "    print(event_obj.timestamp)"
   ]
  },
  {
   "cell_type": "code",
   "execution_count": 9,
   "metadata": {},
   "outputs": [
    {
     "output_type": "stream",
     "name": "stdout",
     "text": [
      "1554583508000\n1555296337000\n1549461608000\n"
     ]
    }
   ],
   "source": [
    "class Event:\n",
    "    def __init__(self, timestamp, event_type, session_id):\n",
    "        self.timestamp = timestamp\n",
    "        self.type = event_type\n",
    "        self.session_id = session_id\n",
    "events = [\n",
    "    {\n",
    "     \"timestamp\": 1554583508000,\n",
    "     \"type\": \"itemViewEvent\",\n",
    "     \"session_id\": \"@:NynteeXG:MYlskrqZbcmXNSFEJaZIsNVGeDLLpmct\",\n",
    "    },\n",
    "    {\n",
    "     \"timestamp\": 1555296337000,\n",
    "     \"type\": \"itemViewEvent\",\n",
    "     \"session_id\": \"@:NynteeXG:MYlskrqZbcmXNSFEJaZIsNVGeDLLpmct\", \n",
    "    },\n",
    "    {\n",
    "     \"timestamp\": 1549461608000,\n",
    "     \"type\": \"itemBuyEvent\",\n",
    "     \"session_id\": \"@:NynteeXG:MYlskrqZbcmXNSFEJaZIsNVGeDLLpmct\", \n",
    "    },\n",
    "]\n",
    "\n",
    "\n",
    "for event in events:\n",
    "    event_obj = Event(timestamp=event.get(\"timestamp\"),\n",
    "\t              event_type=event.get(\"type\"),\n",
    "\t\t      session_id=event.get(\"session_id\"))\n",
    "    print(event_obj.timestamp)"
   ]
  },
  {
   "source": [
    "# C1.7. Наследование\n",
    "При описании производного класса используем шаблон:\n",
    "\n",
    "class ПроизводныйКласс (БазовыйКласс):\n",
    "    # Тело класса\n",
    "\n"
   ],
   "cell_type": "markdown",
   "metadata": {}
  },
  {
   "cell_type": "code",
   "execution_count": 1,
   "metadata": {},
   "outputs": [
    {
     "output_type": "stream",
     "name": "stdout",
     "text": [
      "100000\nTrue\n"
     ]
    }
   ],
   "source": [
    "import datetime\n",
    "\n",
    "\n",
    "class Product:\n",
    "    max_quantity = 100000\n",
    "\n",
    "    def __init__(self, name, category, quantity_in_stock):\n",
    "        self.name = name\n",
    "        self.category = category\n",
    "        self.quantity_in_stock = quantity_in_stock\n",
    "\n",
    "    def is_available(self):\n",
    "        return True if self.quantity_in_stock > 0 else False\n",
    "\n",
    "\n",
    "class Food(Product):\n",
    "    is_critical = True\n",
    "    needs_to_be_refreshed = True\n",
    "    refresh_frequency = datetime.timedelta(days=1)\n",
    "\n",
    "\n",
    "eggs = Food(name=\"eggs\", category=\"food\", quantity_in_stock=5)\n",
    "print(eggs.max_quantity)\n",
    "\n",
    "print(eggs.is_available())"
   ]
  },
  {
   "cell_type": "code",
   "execution_count": 2,
   "metadata": {},
   "outputs": [
    {
     "output_type": "stream",
     "name": "stdout",
     "text": [
      "This event means someone has browsed an item.\nitemViewEvent\n"
     ]
    }
   ],
   "source": [
    "# Важно, если мы назовем атрибут или метод так же, как он называется в родительском классе, он будет переопределен. Рассмотрим на примере:\n",
    "class Event:\n",
    "    def __init__(self, timestamp=0, event_type=\"\", session_id=\"\"):\n",
    "        self.timestamp = timestamp\n",
    "        self.type = event_type\n",
    "        self.session_id = session_id\n",
    "\n",
    "    def init_from_dict(self, event_dict):\n",
    "        self.timestamp = event_dict.get(\"timestamp\")\n",
    "        self.type = event_dict.get(\"type\")\n",
    "        self.session_id = event_dict.get(\"session_id\")\n",
    "\n",
    "    def show_description(self):\n",
    "        print(\"This is generic event.\")\n",
    "\n",
    "\n",
    "class ItemViewEvent(Event):\n",
    "    type = \"itemViewEvent\"\n",
    "\n",
    "    def __init__(self, timestamp=0, session_id=\"\", number_of_views=0):\n",
    "        self.timestamp = timestamp\n",
    "        self.session_id = session_id\n",
    "        self.number_of_views = number_of_views\n",
    "\n",
    "    def show_description(self):\n",
    "        print(\"This event means someone has browsed an item.\")\n",
    "\n",
    "\n",
    "if __name__ == \"__main__\":\n",
    "    test_view_event = ItemViewEvent(timestamp=1549461608000, session_id=\"0:NynteeXG:MYlskrqZbcmXNSFEJaZIsNVGeDLLpmct\", number_of_views=6)\n",
    "    test_view_event.show_description()\n",
    "    print(test_view_event.type)"
   ]
  },
  {
   "cell_type": "code",
   "execution_count": 3,
   "metadata": {},
   "outputs": [
    {
     "output_type": "stream",
     "name": "stdout",
     "text": [
      "kitchen\nroom1\nroom2 for flat\n"
     ]
    }
   ],
   "source": [
    "class Room1:\n",
    "   def get_room(self):\n",
    "       print('room1')\n",
    " \n",
    "class Room2:\n",
    "   def get_room(self):\n",
    "       print('room2')\n",
    " \n",
    "   def get_room2(self):\n",
    "       print('room2 for flat')\n",
    " \n",
    "class Kitchen:\n",
    "   def get_kitchen(self):\n",
    "       print('kitchen')\n",
    " \n",
    "class Flat(Kitchen,Room1,Room2):\n",
    "   ...\n",
    " \n",
    "f=Flat()\n",
    "f.get_kitchen()\n",
    "f.get_room()\n",
    "f.get_room2()"
   ]
  },
  {
   "cell_type": "code",
   "execution_count": 4,
   "metadata": {},
   "outputs": [
    {
     "output_type": "stream",
     "name": "stdout",
     "text": [
      "True\nTrue\nTrue\n"
     ]
    }
   ],
   "source": [
    "print(isinstance(f,Flat))\n",
    "print(isinstance(f,Room1))\n",
    "print(isinstance(f,Room2))"
   ]
  },
  {
   "source": [
    "# C1.8. Импорт классов"
   ],
   "cell_type": "markdown",
   "metadata": {}
  },
  {
   "cell_type": "code",
   "execution_count": 5,
   "metadata": {},
   "outputs": [],
   "source": [
    "class Rectangle:\n",
    "    def __init__(self, width, heigth):\n",
    "        self.width = width\n",
    "        self.height = heigth\n",
    "\n",
    "    def get_width(self):\n",
    "        return self.width\n",
    "\n",
    "    def get_height(self):\n",
    "        return self.height\n",
    "\n",
    "    # Метод, рассчитывающий площадь\n",
    "    def get_area(self):\n",
    "        return self.width * self.height"
   ]
  },
  {
   "cell_type": "code",
   "execution_count": 8,
   "metadata": {},
   "outputs": [
    {
     "output_type": "stream",
     "name": "stdout",
     "text": [
      "r1.width = 10\nr1.height = 5\nr1.get_width = 10\nr1.get_height = 5\nr1.get_area = 50\n"
     ]
    }
   ],
   "source": [
    "# Создадим еще отдельный файл под названием testRectangle.py, для того, чтобы реализовать наследование. Причем обязательно в той папке, где находится rectangle.py (в нашем случае это папка practice_C1). \n",
    "# from rectangle import Rectangle\n",
    "r1 = Rectangle(10, 5)\n",
    "\n",
    "print(\"r1.width =\", r1.width)\n",
    "print(\"r1.height =\", r1.height)\n",
    "print(\"r1.get_width =\", r1.get_width())\n",
    "print(\"r1.get_height =\", r1.get_height())\n",
    "print(\"r1.get_area =\", r1.get_area())"
   ]
  },
  {
   "source": [
    "# C1.9. Полиморфизм в Python\n",
    "Полиморфизм в ООП обрабатывает разные типы данных, принадлежащих к разным классам, с помощью одной и той же функции (метода). По сути одинаковым является только имя метода, но результаты работы одноименных методов могут различаться."
   ],
   "cell_type": "markdown",
   "metadata": {}
  },
  {
   "cell_type": "code",
   "execution_count": 31,
   "metadata": {},
   "outputs": [],
   "source": [
    "class Rectangle:\n",
    "    def __init__(self,a,b):\n",
    "        self.a = a\n",
    "       \tself.b = b\t\t  \n",
    "    def get_area(self):\t\t\n",
    "        return self.a * self.b\n",
    "\t\t\n",
    "class Square:\n",
    "    def __init__(self,a):\n",
    "\t    self.a = a\n",
    "    def get_area_square(self):\t\t\n",
    "        return self.a ** 2\n",
    "#возведение в степень **2 (в квадрат)\n",
    "\n",
    "class Circle:\n",
    "    def __init__(self, r):\n",
    "        self.r = r\n",
    "    def rad(self):\n",
    "        return self.r\n",
    "    def get_circle_area(self):\n",
    "        return 3.14159 * self.r**2\n"
   ]
  },
  {
   "cell_type": "code",
   "execution_count": 32,
   "metadata": {},
   "outputs": [
    {
     "output_type": "stream",
     "name": "stdout",
     "text": [
      "12\n60\n25 100\nArea of the circle with radius = 3 is 28.27431\n"
     ]
    }
   ],
   "source": [
    "# from rectangle import Rectangle, Square\n",
    "\n",
    "#далее создаем два прямоугольника\n",
    "\n",
    "rect_1 = Rectangle(3,4)\n",
    "rect_2 = Rectangle(12,5)\n",
    "#вывод площади наших двух прямоугольников\n",
    "print(rect_1.get_area())\n",
    "print(rect_2.get_area())\n",
    "\n",
    "square_1 = Square(5)\n",
    "square_2 = Square(10)\n",
    "\n",
    "print(square_1.get_area_square(),\n",
    "      square_2.get_area_square())\n",
    "\n",
    "### Задание 1.9.1\n",
    "circle = Circle(3)\n",
    "print(f'Area of the circle with radius = {circle.rad()} is {circle.get_circle_area()}')\n",
    "\t\t"
   ]
  },
  {
   "cell_type": "code",
   "execution_count": 21,
   "metadata": {},
   "outputs": [
    {
     "output_type": "stream",
     "name": "stdout",
     "text": [
      "12\n60\n25\n100\n"
     ]
    }
   ],
   "source": [
    "# figures = [rect_1, rect_2, square_1, square_2]\n",
    "# print(square_1.get_area_square(),\n",
    "    #   square_2.get_area_square())\n",
    "\t  \n",
    "figures = [rect_1, rect_2, square_1, square_2]\n",
    "for figure in figures:\n",
    "    if isinstance (figure, Square):\n",
    "        print(figure.get_area_square())\n",
    "    else:\n",
    "\t    print(figure.get_area())\t"
   ]
  },
  {
   "source": [
    "### Еще немного о полиморфизме и магических методах на примере __eq__ и __str__"
   ],
   "cell_type": "markdown",
   "metadata": {}
  },
  {
   "cell_type": "code",
   "execution_count": null,
   "metadata": {},
   "outputs": [],
   "source": [
    "Перегрузка представляет собой изменение поведения стандартного оператора или метода под особенности класса.\n",
    "\n",
    "Возьмем несколько наиболее часто используемых методов:\n",
    "\n",
    "        __eq__ — определяет поведение оператора равенства ==;\n",
    "        __str__ — определяет поведение функции str() или вызов внутри функции print().\n"
   ]
  },
  {
   "cell_type": "code",
   "execution_count": 25,
   "metadata": {},
   "outputs": [],
   "source": [
    "class Dot:\n",
    "    def __init__(self,x,y):\n",
    "        self.x=x\n",
    "        self.y=y\n",
    "\n",
    "    def __eq__(self,other):\n",
    "        return self.x==other.x and self.y==other.y\n",
    "\n",
    "    def __str__(self):\n",
    "        return f'Dot: {self.x,self.y}'"
   ]
  },
  {
   "cell_type": "code",
   "execution_count": 26,
   "metadata": {},
   "outputs": [
    {
     "output_type": "stream",
     "name": "stdout",
     "text": [
      "True\nDot: (1, 2)\nDot: (1, 2)\n"
     ]
    }
   ],
   "source": [
    "p1=Dot(1,2)\n",
    "p2=Dot(1,2)\n",
    "print(p1==p2)\n",
    "print(str(p1))\n",
    "print(p2)"
   ]
  },
  {
   "cell_type": "code",
   "execution_count": 33,
   "metadata": {},
   "outputs": [
    {
     "output_type": "stream",
     "name": "stdout",
     "text": [
      "False\n"
     ]
    }
   ],
   "source": [
    "# Задание 1.9.2\n",
    "class Rectangle:\n",
    "    def __init__(self, a, b):\n",
    "        self.a = a\n",
    "        self.b = b\n",
    "    def get_area(self):\n",
    "        return self.a * self.b\n",
    "\n",
    "    def __eq__(self,other):\n",
    "        return self.a==other.a and self.b==other.b\n",
    "        \n",
    "rect_1 = Rectangle(3,4)\n",
    "rect_2 = Rectangle(12,5)\n",
    "\n",
    "print(rect_1==rect_2)"
   ]
  },
  {
   "cell_type": "code",
   "execution_count": null,
   "metadata": {},
   "outputs": [],
   "source": []
  }
 ]
}