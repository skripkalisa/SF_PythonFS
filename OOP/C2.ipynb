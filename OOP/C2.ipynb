{
    "cells": [
        {
            "cell_type": "markdown",
            "source": [
                "# C2.2. Cтатические методы\n",
                "Статические методы — это методы, которые относятся сразу ко всем объектам класса, и могут вызываться вне конкретного объекта, обращаясь к классу напрямую.\n"
            ],
            "metadata": {}
        },
        {
            "cell_type": "code",
            "execution_count": 1,
            "source": [
                "class StaticClass:\n",
                "\n",
                "    @staticmethod  # помечаем метод который мы хотим сделать статичным декоратором @staticmethod\n",
                "    def bar():\n",
                "        print(\"bar\")\n",
                "\n",
                "\n",
                "StaticClass.bar()"
            ],
            "outputs": [
                {
                    "output_type": "stream",
                    "name": "stdout",
                    "text": [
                        "bar\n"
                    ]
                }
            ],
            "metadata": {}
        },
        {
            "cell_type": "code",
            "execution_count": 2,
            "source": [
                "class StaticClass:\n",
                "\n",
                "    @staticmethod\n",
                "    def bar():\n",
                "        print(\"bar\")\n",
                "\n",
                "\n",
                "f = StaticClass()\n",
                "f.bar()  # вызывать статические методы через объекты так же никто не запрещает\n",
                "# Вызов статического метода через объекты не возбраняется, но считается не очень хорошим тоном.\n"
            ],
            "outputs": [
                {
                    "output_type": "stream",
                    "name": "stdout",
                    "text": [
                        "bar\n"
                    ]
                }
            ],
            "metadata": {}
        },
        {
            "cell_type": "markdown",
            "source": [
                "Статические методы надо использовать, когда мы должны выполнить какое-то действие, которое не зависит от состояния объекта. Например, прочитать какой-нибудь файл или вывести на экран какую-либо информацию. Иногда через статические методы удобно хранить константы.\n",
                "Для хранения констант лучше всего, конечно же, использовать поля, чтобы не смущать своих коллег. Используйте статические методы в основном для работы с внешними ресурсами (API, файлы и т. д.)."
            ],
            "metadata": {}
        },
        {
            "cell_type": "code",
            "execution_count": 3,
            "source": [
                "try:\n",
                "    a = int(input())\n",
                "    if a < 0 or a > 4:\n",
                "        raise ValueError\n",
                "    if a == 1:\n",
                "        print(\"Вы выбрали 1\")\n",
                "    elif a == 2:\n",
                "        print(\"Вы выбрали 2\")\n",
                "    elif a == 3:\n",
                "        print(\"Вы выбрали 3\")\n",
                "except ValueError:\n",
                "    print(\"это неверный выбор\")\n"
            ],
            "outputs": [
                {
                    "output_type": "stream",
                    "name": "stdout",
                    "text": [
                        "это неверный выбор\n"
                    ]
                }
            ],
            "metadata": {}
        },
        {
            "cell_type": "code",
            "execution_count": 4,
            "source": [
                "class SquareFactory:\n",
                "  @staticmethod\n",
                "  def get_area(a):\n",
                "    return a*a\n",
                "\n",
                "square1 = SquareFactory()\n",
                "square1.get_area(5)\n"
            ],
            "outputs": [
                {
                    "output_type": "execute_result",
                    "data": {
                        "text/plain": [
                            "25"
                        ]
                    },
                    "metadata": {},
                    "execution_count": 4
                }
            ],
            "metadata": {}
        },
        {
            "cell_type": "code",
            "execution_count": 5,
            "source": [
                "class Square:\n",
                "    def __init__(self, side):\n",
                "        self.side = side\n",
                "\n",
                "\n",
                "class SquareFactory:\n",
                "    @staticmethod\n",
                "    def create_square(side):\n",
                "        return Square(side)\n",
                "\n",
                "\n",
                "sq1 = SquareFactory.create_square(1)\n",
                "print(sq1.side)\n"
            ],
            "outputs": [
                {
                    "output_type": "stream",
                    "name": "stdout",
                    "text": [
                        "1\n"
                    ]
                }
            ],
            "metadata": {}
        },
        {
            "cell_type": "markdown",
            "source": [
                "# C2.3. Декораторы класса: @property, @classmethod. Ещё пару слов о нашей бывшей возлюбленной — инкапсуляции."
            ],
            "metadata": {}
        },
        {
            "cell_type": "markdown",
            "source": [
                "_Инкапсуляция_ — это одна из основ объектно-ориентированного программирования, которая говорит нам о том, что поля (переменные) класса и его методы (функции класса) надо объединять в одну целую систему.\n",
                "\n",
                "@property очень классный декоратор, он-то, по сути, и обеспечивает нам прямой путь к инкапсуляции, позволяя объединить методы и поля. Давайте же скорее взглянем на пример кода с использованием этого декоратора."
            ],
            "metadata": {}
        },
        {
            "cell_type": "code",
            "execution_count": 6,
            "source": [
                "# создадим класс собаки\n",
                "class Dog:\n",
                "    def __init__(self, name, age):\n",
                "        self.name = name\n",
                "        self.age = age\n",
                "\n",
                "    # создадим свойство human_age, которое будет переводить возраст животного в человеческий\n",
                "    @property  # тот самый магический декоратор\n",
                "    def human_age(self):\n",
                "        return self.age * 7.3\n",
                "\n",
                "\n",
                "jane = Dog(\"jane\", 4)\n",
                "# т.к. метод помечен декоратором property, то нам не надо вызывать этот метод чтобы получить результат\n",
                "print(jane.human_age)\n"
            ],
            "outputs": [
                {
                    "output_type": "stream",
                    "name": "stdout",
                    "text": [
                        "29.2\n"
                    ]
                }
            ],
            "metadata": {}
        },
        {
            "cell_type": "code",
            "execution_count": 10,
            "source": [
                "class Dog:\n",
                "    _happiness = 10\n",
                "\n",
                "    def __init__(self, name, age):\n",
                "        self.name = name\n",
                "        self.age = age\n",
                "\n",
                "    @property\n",
                "    def human_age(self):\n",
                "        return self.age * 7.3\n",
                "\n",
                "    # добавим новое поле - шкала счастья\n",
                "    @property\n",
                "    def happiness(self):\n",
                "        return self._happiness\n",
                "\n",
                "    # с помощью декоратора setter мы можем неявно передать во второй\n",
                "    # аргумент значение, находящееся справа от равно, а не закидывать это\n",
                "    # значение в скобки, как мы это делали в модуле C1, когда не знали о\n",
                "    # декораторах класса\n",
                "    @happiness.setter\n",
                "    # допустим, мы хотим, чтобы счастье питомца измерялось шкалой от 0 до 100\n",
                "    def happiness(self, value):\n",
                "        if value <= 100 and value >= 0:\n",
                "            self._happiness = value\n",
                "            print(f\"This dog, {self.name} is happy for {self._happiness}%\")\n",
                "        else:\n",
                "            raise ValueError(\"Happiness must be between 0 ... 100\")\n",
                "\n",
                "\n",
                "jane = Dog(\"jane\", 4)\n",
                "jane.happiness = 100  # осчастливим нашу собаку < :\n",
                "print(jane.happiness)\n"
            ],
            "outputs": [
                {
                    "output_type": "stream",
                    "name": "stdout",
                    "text": [
                        "This dog, jane is happy for 100%\n",
                        "100\n"
                    ]
                }
            ],
            "metadata": {}
        },
        {
            "cell_type": "markdown",
            "source": [
                "декораторы .setter должны называться так же, как и метод, помеченный декоратором @property, для которого вы хотите устанавливать значение, иначе интерпретатор выдаст ошибку.\n",
                "Благодаря декоратору @.setter можно использовать инкапсуляцию, сохраняя привычное нам обращение к полю через точку, а установку нового значения через =. Вот такой вот магический декоратор @property."
            ],
            "metadata": {}
        },
        {
            "cell_type": "code",
            "execution_count": 14,
            "source": [
                "class ParentClass:\n",
                "\n",
                "    @classmethod\n",
                "    def method(cls, arg):\n",
                "        print(\"%s classmethod. %d\" % (cls.__name__, arg))\n",
                "\n",
                "    @classmethod\n",
                "    def call_original_method(cls):\n",
                "        cls.method(5)\n",
                "\n",
                "    def call_class_method(self):\n",
                "        self.method(10)\n",
                "\n",
                "\n",
                "class ChildClass(ParentClass):\n",
                "\n",
                "    @classmethod\n",
                "    def call_original_method(cls):\n",
                "        cls.method(6)\n",
                "\n",
                "\n",
                "# Вызываем методы класса через класс.\n",
                "ParentClass.method(0)  # ParentClassclassmethod. 0\n",
                "ParentClass.call_original_method()  # ParentClassclassmethod. 5\n",
                "\n",
                "ChildClass.method(0)  # ChildClassclassmethod. 0\n",
                "ChildClass.call_original_method()  # ChildClassclassmethod. 6\n",
                "\n",
                "# Вызываем методы класса через объект.\n",
                "my_obj = ParentClass()\n",
                "my_obj.method(1)  # ParentClassclassmethod. 1\n",
                "my_obj.call_class_method()  # ParentClassclassmethod. 10\n"
            ],
            "outputs": [
                {
                    "output_type": "stream",
                    "name": "stdout",
                    "text": [
                        "ParentClass classmethod. 0\n",
                        "ParentClass classmethod. 5\n",
                        "ChildClass classmethod. 0\n",
                        "ChildClass classmethod. 6\n",
                        "ParentClass classmethod. 1\n",
                        "ParentClass classmethod. 10\n"
                    ]
                }
            ],
            "metadata": {}
        },
        {
            "cell_type": "code",
            "execution_count": null,
            "source": [
                "class Square:\n",
                "  _side = None\n",
                "  def __init__(self, side):\n",
                "      self.side = side\n",
                "  @property\n",
                "  def get_area(self, side):\n",
                "    return self.side ** 2\n",
                "  @get_area.setter\n",
                "  def get_area(seld, side):\n",
                "    if side >  0:\n",
                "      self._side = side\n",
                "  \n",
                "\n",
                "  "
            ],
            "outputs": [],
            "metadata": {}
        },
        {
            "cell_type": "code",
            "execution_count": 17,
            "source": [
                "class Square:\n",
                "    _a = None\n",
                "\n",
                "    def __init__(self, a):\n",
                "        self.a = a\n",
                "\n",
                "    @property\n",
                "    def a(self):\n",
                "        return self._a\n",
                "\n",
                "    @a.setter\n",
                "    def a(self, value):\n",
                "        if value > 0:\n",
                "            self._a = value\n",
                "\n",
                "    @property\n",
                "    def area(self):\n",
                "        return self.a**2\n",
                "sq1 = Square(5)\n",
                "sq1.area"
            ],
            "outputs": [
                {
                    "output_type": "execute_result",
                    "data": {
                        "text/plain": [
                            "25"
                        ]
                    },
                    "metadata": {},
                    "execution_count": 17
                }
            ],
            "metadata": {}
        },
        {
            "cell_type": "markdown",
            "source": [
                "# C2.4. Исключения\n",
                "Исключения — это такие ошибки, которые возникают не во время компиляции программы, а в процессе её исполнения, в случаях, если что-то идёт не так."
            ],
            "metadata": {}
        },
        {
            "cell_type": "code",
            "execution_count": 20,
            "source": [
                "try:\n",
                "    print(\"Перед исключением\")\n",
                "    a = int(input(\"a: \"))\n",
                "    b = int(input(\"b: \"))\n",
                "    c = a / b\n",
                "    print(c)  # печатаем c = a / b если всё хорошо\n",
                "except ZeroDivisionError as e:\n",
                "    print(\"После исключения\")\n",
                "# код в блоке else выполняется только в том случае, если код в блоке try выполнился успешно (т.е. не вылетело никакого исключения).\n",
                "else:\n",
                "    print(\"Всё ништяк\")\n",
                "finally:  # код в блоке finally выполнится в любом случае, при выходе из try-except\n",
                "    print(\"Finally на месте\")\n",
                "\n",
                "print(\"После После исключения\")\n"
            ],
            "outputs": [
                {
                    "output_type": "stream",
                    "name": "stdout",
                    "text": [
                        "Перед исключением\n",
                        "После исключения\n",
                        "Finally на месте\n",
                        "После После исключения\n"
                    ]
                }
            ],
            "metadata": {}
        }
    ],
    "metadata": {
        "orig_nbformat": 4,
        "language_info": {
            "name": "python",
            "version": "3.8.10",
            "mimetype": "text/x-python",
            "codemirror_mode": {
                "name": "ipython",
                "version": 3
            },
            "pygments_lexer": "ipython3",
            "nbconvert_exporter": "python",
            "file_extension": ".py"
        },
        "kernelspec": {
            "name": "python3",
            "display_name": "Python 3.8.10 64-bit"
        },
        "interpreter": {
            "hash": "31f2aee4e71d21fbe5cf8b01ff0e069b9275f58929596ceb00d14d90e3e16cd6"
        }
    },
    "nbformat": 4,
    "nbformat_minor": 2
}