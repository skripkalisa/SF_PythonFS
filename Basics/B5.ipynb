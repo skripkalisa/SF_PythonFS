{
 "metadata": {
  "language_info": {
   "codemirror_mode": {
    "name": "ipython",
    "version": 3
   },
   "file_extension": ".py",
   "mimetype": "text/x-python",
   "name": "python",
   "nbconvert_exporter": "python",
   "pygments_lexer": "ipython3",
   "version": "3.8.10"
  },
  "orig_nbformat": 4,
  "kernelspec": {
   "name": "python3",
   "display_name": "Python 3.8.10 64-bit ('venv')"
  },
  "interpreter": {
   "hash": "58842fd7f0bd6eb4f3d195232cb7250e32e26bfd49f698f2a55d475301c1f138"
  }
 },
 "nbformat": 4,
 "nbformat_minor": 2,
 "cells": [
  {
   "cell_type": "code",
   "execution_count": 1,
   "metadata": {},
   "outputs": [
    {
     "output_type": "stream",
     "name": "stdout",
     "text": [
      "140715813039168\n140715813039168\n"
     ]
    }
   ],
   "source": [
    "L = ['a', 'b', 'c']\n",
    "print(id(L))\n",
    "\n",
    "L.append('d')\n",
    "print(id(L))"
   ]
  },
  {
   "cell_type": "code",
   "execution_count": 3,
   "metadata": {},
   "outputs": [
    {
     "output_type": "stream",
     "name": "stdout",
     "text": [
      "0\n"
     ]
    }
   ],
   "source": [
    "a = 5\n",
    "b = 3+2\n",
    "print(id(a) - id(b))"
   ]
  },
  {
   "cell_type": "code",
   "execution_count": 4,
   "metadata": {},
   "outputs": [
    {
     "output_type": "stream",
     "name": "stdout",
     "text": [
      "257\n"
     ]
    }
   ],
   "source": [
    "a = 0\n",
    "b = 0\n",
    "\n",
    "while id(a) == id(b):\n",
    "    a += 1\n",
    "    b += 1\n",
    "\n",
    "print(a)"
   ]
  },
  {
   "cell_type": "code",
   "execution_count": 5,
   "metadata": {},
   "outputs": [
    {
     "output_type": "stream",
     "name": "stdout",
     "text": [
      "-6\n"
     ]
    }
   ],
   "source": [
    "a = 0\n",
    "b = 0\n",
    "\n",
    "while id(a) == id(b):\n",
    "    a -= 1\n",
    "    b -= 1\n",
    "\n",
    "print(a)"
   ]
  },
  {
   "cell_type": "code",
   "execution_count": 6,
   "metadata": {},
   "outputs": [
    {
     "output_type": "stream",
     "name": "stdout",
     "text": [
      "True\n"
     ]
    }
   ],
   "source": [
    "shopping_center = (\"Галерея\", \"Санкт-Петербург\", \"Лиговский пр., 30\", [\"H&M\", \"Zara\"])\n",
    "list_id_before = id(shopping_center[-1])\n",
    "\n",
    "shopping_center[-1].append(\"Uniqlo\")\n",
    "list_id_after = id(shopping_center[-1])\n",
    "\n",
    "print(list_id_before == list_id_after)"
   ]
  },
  {
   "cell_type": "code",
   "execution_count": 10,
   "metadata": {},
   "outputs": [
    {
     "output_type": "stream",
     "name": "stdout",
     "text": [
      "Number of unique symbols: 11\n"
     ]
    }
   ],
   "source": [
    "text = input(\"Enter text: \")\n",
    "\n",
    "# letters_list = text.split()\n",
    "\n",
    "letter_set = set(text)\n",
    "\n",
    "print(f\"Number of unique symbols: {len(letter_set)}\")"
   ]
  },
  {
   "cell_type": "code",
   "execution_count": 18,
   "metadata": {},
   "outputs": [
    {
     "output_type": "stream",
     "name": "stdout",
     "text": [
      "{'2', '8', '6', ' ', '1', '4'}\n"
     ]
    }
   ],
   "source": [
    "a = input(\"Введите первую строку: \")\n",
    "b = input(\"Введите вторую строку: \")\n",
    "\n",
    "a_set, b_set = set(a), set(b) # используем множественное присваивание\n",
    "\n",
    "a_and_b = a_set.intersection(b_set)\n",
    "\n",
    "print(a_and_b)"
   ]
  },
  {
   "cell_type": "code",
   "execution_count": 17,
   "metadata": {},
   "outputs": [
    {
     "output_type": "stream",
     "name": "stdout",
     "text": [
      "{'0', '5', '3', '7'}\n"
     ]
    }
   ],
   "source": [
    "a = input(\"Введите первую строку: \")\n",
    "b = input(\"Введите вторую строку: \")\n",
    "\n",
    "a_set, b_set = set(a), set(b) # используем множественное присваивание\n",
    "\n",
    "a_and_b = a_set.symmetric_difference(b_set)\n",
    "\n",
    "print(a_and_b)"
   ]
  },
  {
   "cell_type": "code",
   "execution_count": 19,
   "metadata": {},
   "outputs": [
    {
     "output_type": "stream",
     "name": "stdout",
     "text": [
      "<class 'tuple'>\n"
     ]
    }
   ],
   "source": [
    "some_var = (2,)\n",
    "print(type(some_var))"
   ]
  },
  {
   "cell_type": "code",
   "execution_count": 20,
   "metadata": {},
   "outputs": [
    {
     "output_type": "stream",
     "name": "stdout",
     "text": [
      "1\n"
     ]
    }
   ],
   "source": [
    "a = None # пустая строка\n",
    "b = a or 1\n",
    "print(b)"
   ]
  },
  {
   "cell_type": "code",
   "execution_count": 21,
   "metadata": {},
   "outputs": [
    {
     "output_type": "stream",
     "name": "stdout",
     "text": [
      "foo\n"
     ]
    }
   ],
   "source": [
    "a = \"foo\"\n",
    "b = \"bar\"\n",
    "\n",
    "print(1 and a or b)"
   ]
  },
  {
   "cell_type": "code",
   "execution_count": 22,
   "metadata": {},
   "outputs": [
    {
     "output_type": "stream",
     "name": "stdout",
     "text": [
      "bar\n"
     ]
    }
   ],
   "source": [
    "a = \"\"\n",
    "b = \"bar\"\n",
    "\n",
    "print(1 and a or b)"
   ]
  },
  {
   "cell_type": "code",
   "execution_count": 30,
   "metadata": {},
   "outputs": [
    {
     "output_type": "stream",
     "name": "stdout",
     "text": [
      "Обе переменные истинные\n1 2\n"
     ]
    }
   ],
   "source": [
    "# пусть a и b - переменные, которые мы хотим проверить\n",
    "a = 1\n",
    "b =2\n",
    "if a and b: # проверка истинности обеих переменных\n",
    "    print(\"Обе переменные истинные\")\n",
    "    print(a,b)"
   ]
  },
  {
   "cell_type": "code",
   "execution_count": 37,
   "metadata": {},
   "outputs": [
    {
     "output_type": "stream",
     "name": "stdout",
     "text": [
      "Одна из переменных истинная\n1\n"
     ]
    }
   ],
   "source": [
    "a = 1\n",
    "b = 0\n",
    "\n",
    "# пусть a и b - переменные, которые мы хотим проверить\n",
    "if a and b:\n",
    "    print(\"Обе переменные истинные\")\n",
    "    print(a,b)\n",
    "elif a or b:\n",
    "    print(\"Одна из переменных истинная\")\n",
    "    print( a or b  ) # печать значения одной переменной, которая является истинной"
   ]
  },
  {
   "cell_type": "code",
   "execution_count": 38,
   "metadata": {},
   "outputs": [
    {
     "output_type": "stream",
     "name": "stdout",
     "text": [
      "Обе переменные ложные\n"
     ]
    }
   ],
   "source": [
    "a = 0\n",
    "b = 0\n",
    "\n",
    "# пусть a и b - переменные, которые мы хотим проверить\n",
    "if a and b:\n",
    "    print(\"Обе переменные истинные\")\n",
    "    print(a,b)\n",
    "elif a or b:\n",
    "    print(\"Одна из переменных истинная\")\n",
    "    print( a or b  ) # печать значения одной переменной, которая является истинной\n",
    "else:\n",
    "    print(\"Обе переменные ложные\")"
   ]
  },
  {
   "cell_type": "code",
   "execution_count": 43,
   "metadata": {},
   "outputs": [],
   "source": [
    "a = int(input())\n",
    "if (isinstance(a, int)):\n",
    "    if  100 <= a <= 999:\n",
    "        if a % 2 == 0 or a %3 == 0:\n",
    "            print(\"Число удовлетворяет условиям\")\n",
    "        else:\n",
    "            rint(\"Число не удовлетворяет условиям\")"
   ]
  },
  {
   "cell_type": "code",
   "execution_count": 45,
   "metadata": {},
   "outputs": [
    {
     "output_type": "stream",
     "name": "stdout",
     "text": [
      "Число удовлетворяет условиям\n"
     ]
    }
   ],
   "source": [
    "a = int(input())\n",
    "if type(a) == int and 100 <= a <= 999 and a %2 == 0 and a % 3 == 0:\n",
    "    print(\"Число удовлетворяет условиям\")\n",
    "else:\n",
    "    print(\"Число не удовлетворяет условиям\")"
   ]
  },
  {
   "cell_type": "code",
   "execution_count": 46,
   "metadata": {},
   "outputs": [
    {
     "output_type": "stream",
     "name": "stdout",
     "text": [
      "Число не удовлетворяет условиям\n"
     ]
    }
   ],
   "source": [
    "a = int(input())\n",
    "if all([type(a) == int,\n",
    "        100 <= a <= 999,\n",
    "        a % 2 == 0,\n",
    "        a % 3 == 0]):\n",
    "    print(\"Число удовлетворяет условиям\")\n",
    "else:\n",
    "    print(\"Число не удовлетворяет условиям\")"
   ]
  },
  {
   "source": [
    "Функция all([ ]) возвращает True, если все элементы списка являются истинными. А что если нужно, чтобы был хотя бы один истинный? Тогда на помощь приходит функция any([ ]). Ее синтаксис аналогичен рассмотренному выше примеру c функцией all([ ])."
   ],
   "cell_type": "markdown",
   "metadata": {}
  },
  {
   "source": [
    "Напишите программу, которая на вход принимает последовательность целых чисел и возвращает True, если все числа равны нулю, и False, если найдется хотя бы одно ненулевое число. Разрешается использование только логических операторов и функций all([ ]) и any([ ])."
   ],
   "cell_type": "markdown",
   "metadata": {}
  },
  {
   "cell_type": "code",
   "execution_count": 48,
   "metadata": {},
   "outputs": [
    {
     "output_type": "stream",
     "name": "stdout",
     "text": [
      "True\n"
     ]
    }
   ],
   "source": [
    "L = list(map(int, input().split()))\n",
    "\n",
    "print(not any(L))"
   ]
  },
  {
   "cell_type": "code",
   "execution_count": 50,
   "metadata": {},
   "outputs": [
    {
     "output_type": "execute_result",
     "data": {
      "text/plain": [
       "[1, 4, 9, 16, 25, 36, 49, 64, 81, 100]"
      ]
     },
     "metadata": {},
     "execution_count": 50
    }
   ],
   "source": [
    "squares = [i**2 for i in range(1,11)]\n",
    "squares\n",
    "# [1, 4, 9, 16, 25, 36, 49, 64, 81, 100]"
   ]
  },
  {
   "cell_type": "code",
   "execution_count": 51,
   "metadata": {},
   "outputs": [
    {
     "output_type": "execute_result",
     "data": {
      "text/plain": [
       "[(1, 1),\n",
       " (2, 4),\n",
       " (3, 9),\n",
       " (4, 16),\n",
       " (5, 25),\n",
       " (6, 36),\n",
       " (7, 49),\n",
       " (8, 64),\n",
       " (9, 81),\n",
       " (10, 100)]"
      ]
     },
     "metadata": {},
     "execution_count": 51
    }
   ],
   "source": [
    "list_tuples = [(i, i**2) for i in range(1,11)]\n",
    "list_tuples\n",
    "#[(1, 1),\n",
    "# (2, 4),\n",
    "# (3, 9),\n",
    "# (4, 16),\n",
    "# (5, 25),\n",
    "# (6, 36),\n",
    "# (7, 49),\n",
    "# (8, 64),\n",
    "# (9, 81),\n",
    "# (10, 100)]\n"
   ]
  },
  {
   "cell_type": "code",
   "execution_count": 53,
   "metadata": {},
   "outputs": [
    {
     "output_type": "execute_result",
     "data": {
      "text/plain": [
       "[[0, 1, 2, 3, 4],\n",
       " [1, 2, 3, 4, 5],\n",
       " [2, 3, 4, 5, 6],\n",
       " [3, 4, 5, 6, 7],\n",
       " [4, 5, 6, 7, 8]]"
      ]
     },
     "metadata": {},
     "execution_count": 53
    }
   ],
   "source": [
    "M = [[i+j for j in range(5)] for i in range(5)]\n",
    "#[[0, 1, 2, 3, 4],\n",
    "# [1, 2, 3, 4, 5],\n",
    "# [2, 3, 4, 5, 6],\n",
    "# [3, 4, 5, 6, 7],\n",
    "# [4, 5, 6, 7, 8]]\n",
    "M"
   ]
  },
  {
   "cell_type": "code",
   "execution_count": 55,
   "metadata": {},
   "outputs": [
    {
     "output_type": "execute_result",
     "data": {
      "text/plain": [
       "[[1, 2, 3, 4, 5, 6, 7, 8, 9, 10],\n",
       " [2, 4, 6, 8, 10, 12, 14, 16, 18, 20],\n",
       " [3, 6, 9, 12, 15, 18, 21, 24, 27, 30],\n",
       " [4, 8, 12, 16, 20, 24, 28, 32, 36, 40],\n",
       " [5, 10, 15, 20, 25, 30, 35, 40, 45, 50],\n",
       " [6, 12, 18, 24, 30, 36, 42, 48, 54, 60],\n",
       " [7, 14, 21, 28, 35, 42, 49, 56, 63, 70],\n",
       " [8, 16, 24, 32, 40, 48, 56, 64, 72, 80],\n",
       " [9, 18, 27, 36, 45, 54, 63, 72, 81, 90],\n",
       " [10, 20, 30, 40, 50, 60, 70, 80, 90, 100]]"
      ]
     },
     "metadata": {},
     "execution_count": 55
    }
   ],
   "source": [
    "table = [[(i+1)*(j+1) for j in range(10)] for i in range(10)]\n",
    "table"
   ]
  },
  {
   "cell_type": "code",
   "execution_count": 56,
   "metadata": {},
   "outputs": [
    {
     "output_type": "execute_result",
     "data": {
      "text/plain": [
       "[[1, 2, 3, 4, 5, 6, 7, 8, 9, 10],\n",
       " [2, 4, 6, 8, 10, 12, 14, 16, 18, 20],\n",
       " [3, 6, 9, 12, 15, 18, 21, 24, 27, 30],\n",
       " [4, 8, 12, 16, 20, 24, 28, 32, 36, 40],\n",
       " [5, 10, 15, 20, 25, 30, 35, 40, 45, 50],\n",
       " [6, 12, 18, 24, 30, 36, 42, 48, 54, 60],\n",
       " [7, 14, 21, 28, 35, 42, 49, 56, 63, 70],\n",
       " [8, 16, 24, 32, 40, 48, 56, 64, 72, 80],\n",
       " [9, 18, 27, 36, 45, 54, 63, 72, 81, 90],\n",
       " [10, 20, 30, 40, 50, 60, 70, 80, 90, 100]]"
      ]
     },
     "metadata": {},
     "execution_count": 56
    }
   ],
   "source": [
    "T = [[i*j for j in range(1,11)] for i in range(1,11)]\n",
    "T"
   ]
  },
  {
   "cell_type": "code",
   "execution_count": 57,
   "metadata": {},
   "outputs": [
    {
     "output_type": "execute_result",
     "data": {
      "text/plain": [
       "['2', '3', '4', '5', '6']"
      ]
     },
     "metadata": {},
     "execution_count": 57
    }
   ],
   "source": [
    "L = [input() for i in range(5)]\n",
    "L"
   ]
  },
  {
   "cell_type": "code",
   "execution_count": 62,
   "metadata": {},
   "outputs": [
    {
     "output_type": "execute_result",
     "data": {
      "text/plain": [
       "[False, True, False, True, False]"
      ]
     },
     "metadata": {},
     "execution_count": 62
    }
   ],
   "source": [
    "L = [int(input())% 2 == 0 for i in range(5)]\n",
    "L"
   ]
  },
  {
   "cell_type": "code",
   "execution_count": 63,
   "metadata": {},
   "outputs": [
    {
     "output_type": "stream",
     "name": "stdout",
     "text": [
      "True\n"
     ]
    }
   ],
   "source": [
    "L = [int(input()) % 2 == 0 for i in range(5)]\n",
    "print( any(L))"
   ]
  },
  {
   "source": [
    "Подумайте, как нужно записать логическое выражение, используя all([ ]) и any([ ]) над списком четности, если его результат будет истинным тогда и только тогда, когда в списке есть хотя бы один четный и хотя бы один нечетный элемент.\n",
    "\n",
    "Ответ\n",
    "\n",
    "any(L) and not all(L)\n",
    "\n"
   ],
   "cell_type": "markdown",
   "metadata": {}
  },
  {
   "cell_type": "code",
   "execution_count": 64,
   "metadata": {},
   "outputs": [
    {
     "output_type": "stream",
     "name": "stdout",
     "text": [
      "(0, 10)\n(1, 9)\n(2, 8)\n(3, 7)\n(4, 6)\n(5, 5)\n(6, 4)\n(7, 3)\n(8, 2)\n(9, 1)\n"
     ]
    }
   ],
   "source": [
    "L = [i for i in range(10)]\n",
    "# 0 1 2 3 4 5 6 7 8 9\n",
    "M = [i for i in range(10,0,-1)]\n",
    "# 10 9 8 7 6 5 4 3 2 1\n",
    "for a in zip(L,M):\n",
    "    print(a)"
   ]
  },
  {
   "cell_type": "code",
   "execution_count": 65,
   "metadata": {},
   "outputs": [
    {
     "output_type": "stream",
     "name": "stdout",
     "text": [
      "a = 0 b = 10\na = 1 b = 9\na = 2 b = 8\na = 3 b = 7\na = 4 b = 6\na = 5 b = 5\na = 6 b = 4\na = 7 b = 3\na = 8 b = 2\na = 9 b = 1\n"
     ]
    }
   ],
   "source": [
    "L = [i for i in range(10)]\n",
    "# 0 1 2 3 4 5 6 7 8 9\n",
    "M = [i for i in range(10,0,-1)]\n",
    "# 10 9 8 7 6 5 4 3 2 1\n",
    "for a, b in zip(L,M):\n",
    "    print('a =', a, 'b =', b)"
   ]
  },
  {
   "cell_type": "code",
   "execution_count": 66,
   "metadata": {},
   "outputs": [
    {
     "output_type": "stream",
     "name": "stdout",
     "text": [
      "a * b = 0\na * b = 9\na * b = 16\na * b = 21\na * b = 24\na * b = 25\na * b = 24\na * b = 21\na * b = 16\na * b = 9\n"
     ]
    }
   ],
   "source": [
    "L = [i for i in range(10)]\n",
    "# 0 1 2 3 4 5 6 7 8 9\n",
    "M = [i for i in range(10,0,-1)]\n",
    "# 10 9 8 7 6 5 4 3 2 1\n",
    "for a, b in zip(L,M):\n",
    "    print('a * b =', a * b)"
   ]
  },
  {
   "cell_type": "code",
   "execution_count": 67,
   "metadata": {},
   "outputs": [
    {
     "output_type": "execute_result",
     "data": {
      "text/plain": [
       "[0, 9, 16, 21, 24, 25, 24, 21, 16, 9]"
      ]
     },
     "metadata": {},
     "execution_count": 67
    }
   ],
   "source": [
    "L = [i for i in range(10)]\n",
    "# 0 1 2 3 4 5 6 7 8 9\n",
    "M = [i for i in range(10,0,-1)]\n",
    "# 10 9 8 7 6 5 4 3 2 1\n",
    "N = [a*b for a,b in zip(L,M)]\n",
    "L\n",
    "M\n",
    "N"
   ]
  },
  {
   "source": [
    "Реализуйте программу, которая сжимает последовательность символов. На вход подается последовательность вида:\n",
    "\n",
    "aaabbccccdaa\n",
    "\n",
    "Необходимо вывести строку, состоящую из символов и количества повторений этого символа. Вывод должен выглядеть как:\n",
    "\n",
    "a3b2c4d1a2\n",
    "\n"
   ],
   "cell_type": "markdown",
   "metadata": {}
  },
  {
   "cell_type": "code",
   "execution_count": 68,
   "metadata": {},
   "outputs": [
    {
     "output_type": "stream",
     "name": "stdout",
     "text": [
      "a3b2c4d1a2\n"
     ]
    }
   ],
   "source": [
    "text = 'aaabbccccdaa'\n",
    "# text = input() # получаем строку\n",
    "\n",
    "last = text[0] # сохраняем первый символ\n",
    "count = 0 # заводим счетчик\n",
    "result = '' # и результирующую строку\n",
    "\n",
    "for c in text:\n",
    "    if c == last: # если символ совпадает с сохраненным, \n",
    "        count += 1 # то увеличиваем счетчик\n",
    "    else:\n",
    "        result += last + str(count) # иначе - записываем в результат\n",
    "        last = c # и обновляем сохраненный символ с его счетчиком\n",
    "        count = 1\n",
    "        \n",
    "result += last + str(count) # и добавляем в результат последний символ\n",
    "print(result)"
   ]
  },
  {
   "cell_type": "code",
   "execution_count": 1,
   "metadata": {},
   "outputs": [
    {
     "output_type": "stream",
     "name": "stdout",
     "text": [
      "4.5\n"
     ]
    }
   ],
   "source": [
    "def linear_solve(a, b):\n",
    "    return b / a\n",
    "\n",
    "print(linear_solve(2, 9))"
   ]
  },
  {
   "cell_type": "code",
   "execution_count": 2,
   "metadata": {},
   "outputs": [
    {
     "output_type": "error",
     "ename": "ZeroDivisionError",
     "evalue": "division by zero",
     "traceback": [
      "\u001b[0;31m---------------------------------------------------------------------------\u001b[0m",
      "\u001b[0;31mZeroDivisionError\u001b[0m                         Traceback (most recent call last)",
      "\u001b[0;32m/tmp/ipykernel_15622/3003108076.py\u001b[0m in \u001b[0;36m<module>\u001b[0;34m\u001b[0m\n\u001b[0;32m----> 1\u001b[0;31m \u001b[0mprint\u001b[0m\u001b[0;34m(\u001b[0m\u001b[0mlinear_solve\u001b[0m\u001b[0;34m(\u001b[0m\u001b[0;36m0\u001b[0m\u001b[0;34m,\u001b[0m\u001b[0;36m1\u001b[0m\u001b[0;34m)\u001b[0m\u001b[0;34m)\u001b[0m\u001b[0;34m\u001b[0m\u001b[0;34m\u001b[0m\u001b[0m\n\u001b[0m",
      "\u001b[0;32m/tmp/ipykernel_15622/4086414393.py\u001b[0m in \u001b[0;36mlinear_solve\u001b[0;34m(a, b)\u001b[0m\n\u001b[1;32m      1\u001b[0m \u001b[0;32mdef\u001b[0m \u001b[0mlinear_solve\u001b[0m\u001b[0;34m(\u001b[0m\u001b[0ma\u001b[0m\u001b[0;34m,\u001b[0m \u001b[0mb\u001b[0m\u001b[0;34m)\u001b[0m\u001b[0;34m:\u001b[0m\u001b[0;34m\u001b[0m\u001b[0;34m\u001b[0m\u001b[0m\n\u001b[0;32m----> 2\u001b[0;31m     \u001b[0;32mreturn\u001b[0m \u001b[0mb\u001b[0m \u001b[0;34m/\u001b[0m \u001b[0ma\u001b[0m\u001b[0;34m\u001b[0m\u001b[0;34m\u001b[0m\u001b[0m\n\u001b[0m\u001b[1;32m      3\u001b[0m \u001b[0;34m\u001b[0m\u001b[0m\n\u001b[1;32m      4\u001b[0m \u001b[0mprint\u001b[0m\u001b[0;34m(\u001b[0m\u001b[0mlinear_solve\u001b[0m\u001b[0;34m(\u001b[0m\u001b[0;36m2\u001b[0m\u001b[0;34m,\u001b[0m \u001b[0;36m9\u001b[0m\u001b[0;34m)\u001b[0m\u001b[0;34m)\u001b[0m\u001b[0;34m\u001b[0m\u001b[0;34m\u001b[0m\u001b[0m\n",
      "\u001b[0;31mZeroDivisionError\u001b[0m: division by zero"
     ]
    }
   ],
   "source": [
    "print(linear_solve(0,1))"
   ]
  },
  {
   "cell_type": "code",
   "execution_count": 3,
   "metadata": {},
   "outputs": [
    {
     "output_type": "stream",
     "name": "stdout",
     "text": [
      "Нет корней\n"
     ]
    }
   ],
   "source": [
    "def linear_solve(a, b):\n",
    "    if a: # помним, что 0 интерпретируется как False, иначе True\n",
    "        return b / a\n",
    "    else:\n",
    "        return \"Нет корней\"\n",
    "\n",
    "print(linear_solve(0,1))"
   ]
  },
  {
   "cell_type": "code",
   "execution_count": 32,
   "metadata": {},
   "outputs": [
    {
     "output_type": "stream",
     "name": "stdout",
     "text": [
      "x1 = -14.865459931328118, x2 = -0.13454006867188184\nNone\n"
     ]
    }
   ],
   "source": [
    "def quadratic_equation( a = 1, b = 1, c = 0):\n",
    "    D = b**2 - 4*a*c\n",
    "    if D < 0:\n",
    "        print(f\"D = {D}. Нет действительных корней\")\n",
    "    elif D == 0:\n",
    "        print(f\"x = {-(b/(2*a))}\")\n",
    "    else:\n",
    "        print (f\"x1 = {(-b - D**0.5)/(2*a)}, x2 = {(-b + D**0.5)/(2*a)}\")\n",
    "\n",
    "# quadratic_equation(1, 4, 3)\n",
    "L = list(map(float, input().split())) \n",
    "print(quadratic_equation( *L ))"
   ]
  },
  {
   "cell_type": "code",
   "execution_count": 28,
   "metadata": {},
   "outputs": [
    {
     "output_type": "stream",
     "name": "stdout",
     "text": [
      "x1 = -1.0, x2 = 0.0\nNone\n"
     ]
    }
   ],
   "source": [
    "L = list(map(float, input().split())) \n",
    "print(quadratic_equation( *L ))"
   ]
  },
  {
   "cell_type": "code",
   "execution_count": 34,
   "metadata": {},
   "outputs": [
    {
     "output_type": "execute_result",
     "data": {
      "text/plain": [
       "1"
      ]
     },
     "metadata": {},
     "execution_count": 34
    }
   ],
   "source": [
    "def min_list(L):\n",
    "    if len(L) == 1:\n",
    "        return L[0]\n",
    "    return L[0] if L[0] < min_list(L[1:]) else min_list(L[1:])\n",
    "\n",
    "min_list([3,5,7,1,9,34])"
   ]
  },
  {
   "cell_type": "code",
   "execution_count": 35,
   "metadata": {},
   "outputs": [
    {
     "output_type": "execute_result",
     "data": {
      "text/plain": [
       "432"
      ]
     },
     "metadata": {},
     "execution_count": 35
    }
   ],
   "source": [
    "def mirror(a, res=0):\n",
    "    return mirror(a // 10, res*10 + a % 10) if a else res \n",
    "\n",
    "mirror(234)"
   ]
  },
  {
   "cell_type": "code",
   "execution_count": 38,
   "metadata": {},
   "outputs": [
    {
     "output_type": "execute_result",
     "data": {
      "text/plain": [
       "False"
      ]
     },
     "metadata": {},
     "execution_count": 38
    }
   ],
   "source": [
    "def equal(N, S):\n",
    "    if S < 0:\n",
    "        return False\n",
    "    if N < 10:\n",
    "        return N == S\n",
    "    else:\n",
    "        return equal(N // 10, S - N % 10) \n",
    "\n",
    "equal(233435, 10)"
   ]
  },
  {
   "cell_type": "code",
   "execution_count": 40,
   "metadata": {},
   "outputs": [
    {
     "output_type": "stream",
     "name": "stdout",
     "text": [
      "2.7181652432261854\n"
     ]
    }
   ],
   "source": [
    "def e():\n",
    "    n = 1\n",
    "    \n",
    "    while True:\n",
    "        yield (1 + 1 / n) ** n\n",
    "        n += 1\n",
    "\n",
    "last = 0\n",
    "for a in e(): # e() - генератор\n",
    "    if (a - last) < 0.00000001: # ограничение на точность\n",
    "        print(a)\n",
    "        break # после достижения которого - завершаем цикл\n",
    "    else:\n",
    "        last = a # иначе - присваиваем новое значение \n",
    "# e_n = (1 + 1/n)**n"
   ]
  },
  {
   "cell_type": "code",
   "execution_count": 46,
   "metadata": {},
   "outputs": [
    {
     "output_type": "stream",
     "name": "stdout",
     "text": [
      "H\ne\nl\nl\no\n!\n"
     ]
    },
    {
     "output_type": "error",
     "ename": "StopIteration",
     "evalue": "",
     "traceback": [
      "\u001b[0;31m---------------------------------------------------------------------------\u001b[0m",
      "\u001b[0;31mStopIteration\u001b[0m                             Traceback (most recent call last)",
      "\u001b[0;32m/tmp/ipykernel_15622/257529829.py\u001b[0m in \u001b[0;36m<module>\u001b[0;34m\u001b[0m\n\u001b[1;32m      7\u001b[0m \u001b[0mprint\u001b[0m\u001b[0;34m(\u001b[0m\u001b[0mnext\u001b[0m\u001b[0;34m(\u001b[0m\u001b[0miter_obj\u001b[0m\u001b[0;34m)\u001b[0m\u001b[0;34m)\u001b[0m\u001b[0;34m\u001b[0m\u001b[0;34m\u001b[0m\u001b[0m\n\u001b[1;32m      8\u001b[0m \u001b[0mprint\u001b[0m\u001b[0;34m(\u001b[0m\u001b[0mnext\u001b[0m\u001b[0;34m(\u001b[0m\u001b[0miter_obj\u001b[0m\u001b[0;34m)\u001b[0m\u001b[0;34m)\u001b[0m\u001b[0;34m\u001b[0m\u001b[0;34m\u001b[0m\u001b[0m\n\u001b[0;32m----> 9\u001b[0;31m \u001b[0mprint\u001b[0m\u001b[0;34m(\u001b[0m\u001b[0mnext\u001b[0m\u001b[0;34m(\u001b[0m\u001b[0miter_obj\u001b[0m\u001b[0;34m)\u001b[0m\u001b[0;34m)\u001b[0m\u001b[0;34m\u001b[0m\u001b[0;34m\u001b[0m\u001b[0m\n\u001b[0m",
      "\u001b[0;31mStopIteration\u001b[0m: "
     ]
    }
   ],
   "source": [
    "iter_obj = iter(\"Hello!\")\n",
    "# for i in iter_obj:\n",
    "print(next(iter_obj)) \n",
    "print(next(iter_obj))\n",
    "print(next(iter_obj))\n",
    "print(next(iter_obj))\n",
    "print(next(iter_obj))\n",
    "print(next(iter_obj))\n",
    "print(next(iter_obj))"
   ]
  },
  {
   "cell_type": "code",
   "execution_count": 47,
   "metadata": {},
   "outputs": [
    {
     "output_type": "stream",
     "name": "stdout",
     "text": [
      "Пользователь авторизован\nsome data from database\n"
     ]
    }
   ],
   "source": [
    "yesno = input(\"\"\"Введите Y, если хотите авторизоваться или N, \n",
    "             если хотите продолжить работу как анонимный пользователь: \"\"\")\n",
    "\n",
    "auth = yesno == \"Y\"\n",
    "\n",
    "\n",
    "def is_auth(func):\n",
    "    def wrapper():\n",
    "        if auth:\n",
    "            print(\"Пользователь авторизован\")\n",
    "            func()\n",
    "        else:\n",
    "            print(\"Пользователь неавторизован. Функция выполнена не будет\")\n",
    "    return wrapper\n",
    "\n",
    "\n",
    "@is_auth\n",
    "def from_db():\n",
    "    print(\"some data from database\")\n",
    "\n",
    "\n",
    "from_db()"
   ]
  },
  {
   "cell_type": "code",
   "execution_count": 49,
   "metadata": {},
   "outputs": [
    {
     "output_type": "stream",
     "name": "stdout",
     "text": [
      "Пользователь авторизован\nАвторизован как admin\nsome data from database\n"
     ]
    }
   ],
   "source": [
    "\n",
    "\n",
    "USERS = ['admin', 'guest', 'director', 'root', 'superstar']\n",
    "\n",
    "yesno = input(\"\"\"Введите Y, если хотите авторизоваться или N, \n",
    "             если хотите продолжить работу как анонимный пользователь: \"\"\")\n",
    "\n",
    "auth = yesno == \"Y\"\n",
    "\n",
    "if auth:\n",
    "    username = input(\"Введите ваш username:\")\n",
    "\n",
    "def has_access(func):\n",
    "    def wrapper():\n",
    "        if username in USERS:\n",
    "            print(\"Авторизован как\", username)\n",
    "            func()\n",
    "        else:\n",
    "            print(\"Доступ пользователю\", username, \"запрещен\")\n",
    "    return wrapper\n",
    "\n",
    "@is_auth\n",
    "@has_access\n",
    "def from_db():\n",
    "    print(\"some data from database\")\n",
    "\n",
    "from_db()\n",
    "\n"
   ]
  },
  {
   "source": [
    "## B5.5. Lambda функции. Встроенные методы map, filter"
   ],
   "cell_type": "markdown",
   "metadata": {}
  },
  {
   "cell_type": "code",
   "execution_count": 50,
   "metadata": {},
   "outputs": [],
   "source": [
    "def map_(func, some_list):\n",
    "    # some_list объект, над которым будет производиться преобразование\n",
    "    # func функция, которая должна выполняться над каждым объектом\n",
    "    outp = []\n",
    "    for i in range(len(some_list)):\n",
    "        outp.append(func(some_list[i]))\n",
    "    return outp"
   ]
  },
  {
   "cell_type": "code",
   "execution_count": 51,
   "metadata": {},
   "outputs": [
    {
     "output_type": "error",
     "ename": "NameError",
     "evalue": "name 'pow_' is not defined",
     "traceback": [
      "\u001b[0;31m---------------------------------------------------------------------------\u001b[0m",
      "\u001b[0;31mNameError\u001b[0m                                 Traceback (most recent call last)",
      "\u001b[0;32m/tmp/ipykernel_15622/919886026.py\u001b[0m in \u001b[0;36m<module>\u001b[0;34m\u001b[0m\n\u001b[0;32m----> 1\u001b[0;31m \u001b[0mprint\u001b[0m\u001b[0;34m(\u001b[0m\u001b[0mlist\u001b[0m\u001b[0;34m(\u001b[0m\u001b[0mmap\u001b[0m\u001b[0;34m(\u001b[0m\u001b[0mpow_\u001b[0m\u001b[0;34m,\u001b[0m \u001b[0ma_list\u001b[0m\u001b[0;34m)\u001b[0m\u001b[0;34m)\u001b[0m\u001b[0;34m)\u001b[0m  \u001b[0;31m# [1, 4, 9]\u001b[0m\u001b[0;34m\u001b[0m\u001b[0;34m\u001b[0m\u001b[0m\n\u001b[0m\u001b[1;32m      2\u001b[0m \u001b[0;34m\u001b[0m\u001b[0m\n\u001b[1;32m      3\u001b[0m \u001b[0;32mfor\u001b[0m \u001b[0mi\u001b[0m \u001b[0;32min\u001b[0m \u001b[0mmap\u001b[0m\u001b[0;34m(\u001b[0m\u001b[0mpow_\u001b[0m\u001b[0;34m,\u001b[0m \u001b[0ma_list\u001b[0m\u001b[0;34m)\u001b[0m\u001b[0;34m:\u001b[0m\u001b[0;34m\u001b[0m\u001b[0;34m\u001b[0m\u001b[0m\n\u001b[1;32m      4\u001b[0m    \u001b[0;32mpass\u001b[0m\u001b[0;34m\u001b[0m\u001b[0;34m\u001b[0m\u001b[0m\n",
      "\u001b[0;31mNameError\u001b[0m: name 'pow_' is not defined"
     ]
    }
   ],
   "source": [
    "print(list(map(pow_, a_list)))  # [1, 4, 9]\n",
    "\n",
    "for i in map(pow_, a_list):\n",
    "   pass"
   ]
  },
  {
   "cell_type": "code",
   "execution_count": 56,
   "metadata": {},
   "outputs": [
    {
     "output_type": "stream",
     "name": "stdout",
     "text": [
      "['this', 'is', 'lower', 'string']\n"
     ]
    }
   ],
   "source": [
    "L = ['THIS', 'IS', 'LOWER', 'STRING']\n",
    "\n",
    "print(list(map(str.lower, L)))"
   ]
  },
  {
   "source": [
    "### filter"
   ],
   "cell_type": "markdown",
   "metadata": {}
  },
  {
   "cell_type": "code",
   "execution_count": null,
   "metadata": {},
   "outputs": [],
   "source": [
    "Псевдокод:\n",
    "\n",
    "def filter(func, cont):\n",
    "    outp = []\n",
    "    for x in cont: # проходим циклом по итерируемому объекту\n",
    "        if func(x): # проверяем условие для каждого элемента\n",
    "            outp.append(x) # если True, добавляем в новый список\n",
    "    return outp"
   ]
  },
  {
   "cell_type": "code",
   "execution_count": 63,
   "metadata": {},
   "outputs": [
    {
     "output_type": "stream",
     "name": "stdout",
     "text": [
      "1\n2\n[]\n"
     ]
    }
   ],
   "source": [
    "# Из заданного списка вывести только положительные элементы\n",
    "def positive(x):\n",
    "    return x > 0  # функция возвращает только True или False\n",
    "\n",
    "\n",
    "result = filter(positive, [-2, -1, 0, 1, -3, 2, -3])\n",
    "\n",
    "# for i in result:\n",
    "#     print(i)\n",
    "\n",
    "# Возвращается итератор, т.е. перечисляйте или приводите к списку\n",
    "print(list(result))   # [1, 2]\n"
   ]
  },
  {
   "cell_type": "code",
   "execution_count": 66,
   "metadata": {},
   "outputs": [
    {
     "output_type": "stream",
     "name": "stdout",
     "text": [
      "-2\n0\n2\n"
     ]
    }
   ],
   "source": [
    "def even(x):\n",
    "    return x % 2 == 0\n",
    "\n",
    "filtered = filter(even, [-2, -1, 0, 1, -3, 2, -3] )\n",
    "\n",
    "for i in filtered:\n",
    "    print(i)"
   ]
  },
  {
   "cell_type": "code",
   "execution_count": 71,
   "metadata": {},
   "outputs": [
    {
     "output_type": "stream",
     "name": "stdout",
     "text": [
      "[-10, -9, -8, -7, -6, -5, -4, -3, -2, -1, 0, 1, 2, 3, 4, 5, 6, 7, 8, 9]\n[1, 4, 9, 16, 25, 36, 49, 64, 81]\n"
     ]
    }
   ],
   "source": [
    "# map + filter\n",
    "some_list = [i - 10 for i in range(20)]\n",
    "def pow2(x): return x**2\n",
    "def positive(x): return x > 0\n",
    "\n",
    "print(some_list)\n",
    "print(list(map(pow2, filter(positive, some_list))))"
   ]
  },
  {
   "cell_type": "code",
   "execution_count": 73,
   "metadata": {},
   "outputs": [
    {
     "output_type": "stream",
     "name": "stdout",
     "text": [
      "[-10, -9, -8, -7, -6, -5, -4, -3, -2, -1, 0, 1, 2, 3, 4, 5, 6, 7, 8, 9]\n[1, 4, 9, 16, 25, 36, 49, 64, 81]\n[1, 4, 9, 16, 25, 36, 49, 64, 81]\n"
     ]
    }
   ],
   "source": [
    "# map + filter\n",
    "some_list = [i - 10 for i in range(20)]\n",
    "def pow2(x): return x**2\n",
    "def positive(x): return x > 0\n",
    "\n",
    "print(some_list)\n",
    "print([i**2 for i in some_list if i > 0])\n",
    "print(list(map(pow2, filter(positive, some_list))))"
   ]
  },
  {
   "source": [
    "## Lambda функции"
   ],
   "cell_type": "markdown",
   "metadata": {}
  },
  {
   "cell_type": "code",
   "execution_count": 74,
   "metadata": {},
   "outputs": [
    {
     "output_type": "execute_result",
     "data": {
      "text/plain": [
       "[1, 4, 9, 16, 25, 36, 49, 64, 81, 100]"
      ]
     },
     "metadata": {},
     "execution_count": 74
    }
   ],
   "source": [
    "# Возвести первые 10 натуральных чисел в квадрат\n",
    "list(map(lambda x: x ** 2, range(1, 11)))  # правильно\n",
    "# [1, 4, 9, 16, 25, 36, 49, 64, 81, 100]\n",
    "\n",
    "# list(map(lambda x: x ** 2; x + 1, range(1, 11)))  #  неправильно, так как lambda содержит две конструкции"
   ]
  },
  {
   "cell_type": "code",
   "execution_count": 82,
   "metadata": {},
   "outputs": [
    {
     "output_type": "execute_result",
     "data": {
      "text/plain": [
       "[1, 4, 9, 16, 25, 36, 49, 64, 81]"
      ]
     },
     "metadata": {},
     "execution_count": 82
    }
   ],
   "source": [
    "[i ** 2 for i in range(1, 10)] # list comprehension"
   ]
  },
  {
   "cell_type": "code",
   "execution_count": 87,
   "metadata": {},
   "outputs": [
    {
     "output_type": "stream",
     "name": "stdout",
     "text": [
      "{1: 'd', 2: 'c', 3: 'b', 4: 'a'}\n"
     ]
    }
   ],
   "source": [
    "d = {2 : \"c\", 1 : \"d\", 4 : \"a\", 3 : \"b\"}\n",
    "\n",
    "# Чтобы отсортировать его по ключам нужно сделать так\n",
    "print(dict(sorted(d.items())))  \n",
    "# {1: 'd', 2: 'c', 3: 'b', 4: 'a'}\n"
   ]
  },
  {
   "source": [
    "А вот, чтобы отсортировать словарь по значениям, необходимо указать, что сортировать нужно по второму элементу кортежа ключ-значение. Тут на помощь приходят lambda-функции. У встроенной функции sortred() можно задать аргумент key, который укажет, по какому ключу нужно производить сортировку."
   ],
   "cell_type": "markdown",
   "metadata": {}
  },
  {
   "cell_type": "code",
   "execution_count": 85,
   "metadata": {},
   "outputs": [
    {
     "output_type": "execute_result",
     "data": {
      "text/plain": [
       "[(4, 'a'), (3, 'b'), (2, 'c'), (1, 'd')]"
      ]
     },
     "metadata": {},
     "execution_count": 85
    }
   ],
   "source": [
    "d = {2 : \"c\", 1 : \"d\", 4 : \"a\", 3 : \"b\"}\n",
    "\n",
    "\n",
    "sorted(d.items(), key=lambda x: x[1])  # сортировка по значению словаря"
   ]
  },
  {
   "source": [
    "Предположим у нас есть список с данными о росте и весе людей. Задача — отсортировать их по индексу массы тела. Он вычисляется по формуле: свой рост в сантиметрах возвести в квадрат, потом массу тела в килограммах разделить на полученную цифру."
   ],
   "cell_type": "markdown",
   "metadata": {}
  },
  {
   "cell_type": "code",
   "execution_count": 88,
   "metadata": {},
   "outputs": [
    {
     "output_type": "execute_result",
     "data": {
      "text/plain": [
       "[(76, 184), (68, 174), (82, 191), (73, 179), (90, 189)]"
      ]
     },
     "metadata": {},
     "execution_count": 88
    }
   ],
   "source": [
    "# (вес, рост)\n",
    "data = [\n",
    "   (82, 191),\n",
    "   (68, 174),\n",
    "   (90, 189),\n",
    "   (73, 179),\n",
    "   (76, 184)\n",
    "]\n",
    "sorted(data, key = lambda x: x[0] / x[1] ** 2)"
   ]
  },
  {
   "cell_type": "code",
   "execution_count": 89,
   "metadata": {},
   "outputs": [
    {
     "output_type": "stream",
     "name": "stdout",
     "text": [
      "[3, 3, 4, 4]\n"
     ]
    }
   ],
   "source": [
    "a = [\"asd\", \"bbd\", \"ddfa\", \"mcsa\"]\n",
    "\n",
    "print( list(map(len, a)) )"
   ]
  },
  {
   "cell_type": "code",
   "execution_count": 91,
   "metadata": {},
   "outputs": [
    {
     "output_type": "stream",
     "name": "stdout",
     "text": [
      "['ЭТО', 'МАЛЕНЬКИЙ', 'ТЕКСТ', 'ОБИДНО']\n"
     ]
    }
   ],
   "source": [
    "a = [\"это\", \"маленький\", \"текст\", \"обидно\"]\n",
    "\n",
    "print( list(map(str.upper, a)) )"
   ]
  },
  {
   "cell_type": "code",
   "execution_count": null,
   "metadata": {},
   "outputs": [],
   "source": []
  }
 ]
}