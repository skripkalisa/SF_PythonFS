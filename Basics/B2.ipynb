{
 "metadata": {
  "language_info": {
   "codemirror_mode": {
    "name": "ipython",
    "version": 3
   },
   "file_extension": ".py",
   "mimetype": "text/x-python",
   "name": "python",
   "nbconvert_exporter": "python",
   "pygments_lexer": "ipython3",
   "version": 3
  },
  "orig_nbformat": 4
 },
 "nbformat": 4,
 "nbformat_minor": 2,
 "cells": [
  {
   "cell_type": "code",
   "execution_count": null,
   "metadata": {},
   "outputs": [],
   "source": [
    "first_name = input(\"Введите ваше имя:\")\n",
    "last_name = input(\"Введите вашу фамилию:\")\n",
    "age = input(\"Введите ваш возраст:\")\n",
    "city = input(\"Введите город проживания:\")\n",
    "\n",
    "# Выводим пустую строку\n",
    "print(\"\")\n",
    "\n",
    "# Выводим приветствие, подставляя имя и фамилию пользователя,\n",
    "# которые он ввел с клавиатуры\n",
    "print(\"Привет,\", first_name, last_name, \"!\")\n",
    "\n",
    "# Выводим пустую строку\n",
    "print(\"\")\n",
    "\n",
    "# Выводим фиксированный текст для удобства просмотра\n",
    "print(\"Ваш профиль:\")\n",
    "\n",
    "# Выводим возраст и город, которые указал пользователь\n",
    "print(\"Возраст:\", age, \"лет\")\n",
    "print(\"Город:\", city)\n",
    "\n",
    "print ((3.14+0.3)/2+0.15)"
   ]
  },
  {
   "cell_type": "code",
   "execution_count": null,
   "metadata": {},
   "outputs": [],
   "source": [
    "print ((3.14+0.3)/2+0.15)"
   ]
  },
  {
   "cell_type": "code",
   "execution_count": null,
   "metadata": {},
   "outputs": [],
   "source": [
    "a = -13\n",
    "b = 7\n",
    "\n",
    "a = a - b\n",
    "b = a + b\n",
    "print(a)\n",
    "a = b - a\n",
    "print('PY' in \"Python\")\n"
   ]
  },
  {
   "cell_type": "code",
   "execution_count": null,
   "metadata": {},
   "outputs": [],
   "source": [
    "# t = (0,1,2)\n",
    "# t[1]  +=  1\n",
    "\n",
    "a = -5\n",
    "b = 2\n",
    "q = a // b \n",
    "\n",
    "print(q)"
   ]
  },
  {
   "cell_type": "code",
   "execution_count": null,
   "metadata": {},
   "outputs": [],
   "source": [
    "print(q)\n",
    "\n",
    "print ((31 % 2) + (-31 % 2))\n",
    "\n",
    "print (13 % -3 * 3 - 3**2)\n",
    "\n",
    "print(round(11*2.5/3, 2))\n",
    "\n",
    "print(round((3.14159**2)/2))\n",
    "\n",
    "pi = 31.4159265\n",
    "print (\"%.4e\" % (pi))\n",
    "hours = \n",
    "\n",
    "print(\"%02d:%02d:%02d\" % (hours, minutes, seconds))"
   ]
  },
  {
   "cell_type": "code",
   "execution_count": null,
   "metadata": {},
   "outputs": [],
   "source": [
    "L = [\"а\", \"б\", \"в\", 1, 2, 3, 4]\n",
    "print (L[-4::-1])"
   ]
  },
  {
   "cell_type": "code",
   "execution_count": null,
   "metadata": {},
   "outputs": [],
   "source": [
    "string = input(\"Введите числа через пробел:\")\n",
    "\n",
    "list_of_strings = string.split() # список строковых представлений чисел\n",
    "list_of_numbers = list(map(int, list_of_strings)) # cписок чисел\n",
    "\n",
    "print(sum(list_of_numbers[::3])) # sum() вычисляет сумму элементов списка"
   ]
  },
  {
   "cell_type": "code",
   "execution_count": null,
   "metadata": {},
   "outputs": [],
   "source": [
    "# все операции - деление строки по пробелам, преобразование к числам \n",
    "# и приведение объекта map к типу список, можно делать в одной строке\n",
    "L = list(map(float, input().split()))\n",
    "\n",
    "# обмениваем первое и последнее число \n",
    "# с помощью множественного присваивания\n",
    "L[0], L[-1] = L[-1], L[0] \n",
    "\n",
    "# находим сумму и добавляем ее в конец списка\n",
    "L.append(sum(L))\n",
    "\n",
    "print(L)"
   ]
  },
  {
   "cell_type": "code",
   "execution_count": null,
   "metadata": {},
   "outputs": [],
   "source": [
    "d = {'day' : 22, 'month' : 6, 'year' : 2015}\n",
    "\n",
    "print(\"||\".join(d.keys()))"
   ]
  },
  {
   "cell_type": "code",
   "execution_count": null,
   "metadata": {},
   "outputs": [],
   "source": [
    "L = ['a', 'b', 'c']\n",
    "print(id(L))\n",
    "\n",
    "L.append('d')\n",
    "print(id(L))"
   ]
  },
  {
   "cell_type": "code",
   "execution_count": null,
   "metadata": {},
   "outputs": [],
   "source": [
    "a = 5\n",
    "b = 3+2\n",
    "\n",
    "print(id(a)-id(b))"
   ]
  },
  {
   "cell_type": "code",
   "execution_count": null,
   "metadata": {},
   "outputs": [],
   "source": [
    "shopping_center = (\"Галерея\", \"Санкт-Петербург\", \"Лиговский пр., 30\", [\"H&M\", \"Zara\"])\n",
    "list_id_before = id(shopping_center[-1])\n",
    "\n",
    "shopping_center[-1].append(\"Uniqlo\")\n",
    "list_id_after = id(shopping_center[-1])\n",
    "\n",
    "print(list_id_before is list_id_after)"
   ]
  }
 ]
}